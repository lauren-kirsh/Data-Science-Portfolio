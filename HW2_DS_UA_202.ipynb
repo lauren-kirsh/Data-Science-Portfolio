{
  "nbformat": 4,
  "nbformat_minor": 0,
  "metadata": {
    "colab": {
      "name": "HW2 DS-UA 202.ipynb",
      "provenance": [],
      "collapsed_sections": [],
      "include_colab_link": true
    },
    "kernelspec": {
      "display_name": "Python 3",
      "language": "python",
      "name": "python3"
    },
    "language_info": {
      "codemirror_mode": {
        "name": "ipython",
        "version": 3
      },
      "file_extension": ".py",
      "mimetype": "text/x-python",
      "name": "python",
      "nbconvert_exporter": "python",
      "pygments_lexer": "ipython3",
      "version": "3.7.1"
    }
  },
  "cells": [
    {
      "cell_type": "markdown",
      "metadata": {
        "id": "view-in-github",
        "colab_type": "text"
      },
      "source": [
        "<a href=\"https://colab.research.google.com/github/lauren-kirsh/Data-Science-Portfolio/blob/main/HW2_DS_UA_202.ipynb\" target=\"_parent\"><img src=\"https://colab.research.google.com/assets/colab-badge.svg\" alt=\"Open In Colab\"/></a>"
      ]
    },
    {
      "cell_type": "markdown",
      "metadata": {
        "id": "rmoZ7PnaFdYv"
      },
      "source": [
        "# Responsible Data Science Spring 2021: Homework 2\n",
        "\n",
        "This notebook contains sample code; other methods at arriving at the correct answer were also accepted.\n",
        "\n",
        "Install the Data Synthesizer library."
      ]
    },
    {
      "cell_type": "code",
      "metadata": {
        "colab": {
          "base_uri": "https://localhost:8080/"
        },
        "id": "1VR_j1uKFdY0",
        "outputId": "1fa1f884-5687-4be5-ef8a-558143b5baa6"
      },
      "source": [
        "!pip install DataSynthesizer"
      ],
      "execution_count": null,
      "outputs": [
        {
          "output_type": "stream",
          "text": [
            "Requirement already satisfied: DataSynthesizer in /usr/local/lib/python3.7/dist-packages (0.1.8)\n",
            "Requirement already satisfied: pandas>=1.0.5 in /usr/local/lib/python3.7/dist-packages (from DataSynthesizer) (1.1.5)\n",
            "Requirement already satisfied: scikit-learn>=0.23.1 in /usr/local/lib/python3.7/dist-packages (from DataSynthesizer) (0.24.1)\n",
            "Requirement already satisfied: matplotlib>=3.2.2 in /usr/local/lib/python3.7/dist-packages (from DataSynthesizer) (3.2.2)\n",
            "Requirement already satisfied: numpy>=1.18.5 in /usr/local/lib/python3.7/dist-packages (from DataSynthesizer) (1.19.5)\n",
            "Requirement already satisfied: seaborn>=0.10.1 in /usr/local/lib/python3.7/dist-packages (from DataSynthesizer) (0.11.1)\n",
            "Requirement already satisfied: python-dateutil>=2.8.1 in /usr/local/lib/python3.7/dist-packages (from DataSynthesizer) (2.8.1)\n",
            "Requirement already satisfied: pytz>=2017.2 in /usr/local/lib/python3.7/dist-packages (from pandas>=1.0.5->DataSynthesizer) (2018.9)\n",
            "Requirement already satisfied: joblib>=0.11 in /usr/local/lib/python3.7/dist-packages (from scikit-learn>=0.23.1->DataSynthesizer) (1.0.1)\n",
            "Requirement already satisfied: threadpoolctl>=2.0.0 in /usr/local/lib/python3.7/dist-packages (from scikit-learn>=0.23.1->DataSynthesizer) (2.1.0)\n",
            "Requirement already satisfied: scipy>=0.19.1 in /usr/local/lib/python3.7/dist-packages (from scikit-learn>=0.23.1->DataSynthesizer) (1.4.1)\n",
            "Requirement already satisfied: cycler>=0.10 in /usr/local/lib/python3.7/dist-packages (from matplotlib>=3.2.2->DataSynthesizer) (0.10.0)\n",
            "Requirement already satisfied: pyparsing!=2.0.4,!=2.1.2,!=2.1.6,>=2.0.1 in /usr/local/lib/python3.7/dist-packages (from matplotlib>=3.2.2->DataSynthesizer) (2.4.7)\n",
            "Requirement already satisfied: kiwisolver>=1.0.1 in /usr/local/lib/python3.7/dist-packages (from matplotlib>=3.2.2->DataSynthesizer) (1.3.1)\n",
            "Requirement already satisfied: six>=1.5 in /usr/local/lib/python3.7/dist-packages (from python-dateutil>=2.8.1->DataSynthesizer) (1.15.0)\n"
          ],
          "name": "stdout"
        }
      ]
    },
    {
      "cell_type": "code",
      "metadata": {
        "id": "yd3BwlQ1FdZD"
      },
      "source": [
        "from DataSynthesizer.DataDescriber import DataDescriber\n",
        "from DataSynthesizer.DataGenerator import DataGenerator\n",
        "from DataSynthesizer.ModelInspector import ModelInspector\n",
        "from DataSynthesizer.lib.utils import normalize_given_distribution, read_json_file, pairwise_attributes_mutual_information, mutual_information, set_random_seed\n",
        "\n",
        "from IPython.display import clear_output\n",
        "from scipy.stats import entropy, ks_2samp\n",
        "from scipy.spatial.distance import euclidean\n",
        "from sklearn.metrics import mutual_info_score\n",
        "from random import randint\n",
        "import pandas as pd\n",
        "import matplotlib.pyplot as plt\n",
        "import seaborn as sns\n",
        "%matplotlib inline"
      ],
      "execution_count": null,
      "outputs": []
    },
    {
      "cell_type": "code",
      "metadata": {
        "id": "UvbEC9Ct2wHq"
      },
      "source": [
        "# Intialize a describer and a generator\n",
        "describer = DataDescriber() \n",
        "generator = DataGenerator() "
      ],
      "execution_count": null,
      "outputs": []
    },
    {
      "cell_type": "markdown",
      "metadata": {
        "id": "_ZaByotmFdZo"
      },
      "source": [
        "Start with a real dataset __hw_compas__ and a fake dataset __hw_xyz__. Generate synthetic datasets of size __N=10000__, in the following four categories:\n",
        "- A:  random mode\n",
        "- B: independent attribute mode with __epsilon = 0.1__\n",
        "- C:  correlated attribute mode with __epsilon = 0.1__, Bayes net degree k=1\n",
        "- D: correlated attribute mode with __epsilon = 0.1__, Bayes net degree k=2"
      ]
    },
    {
      "cell_type": "code",
      "metadata": {
        "id": "GXqw1Tjl3kdb"
      },
      "source": [
        "# Packages for reading csv file into Colaboratory:\n",
        "!pip install -U -q PyDrive==1.3.1\n",
        "\n",
        "from pydrive.auth import GoogleAuth\n",
        "from pydrive.drive import GoogleDrive\n",
        "from google.colab import auth\n",
        "from oauth2client.client import GoogleCredentials\n",
        "\n",
        "# Authenticate and create the PyDrive client. \n",
        "# Please follow the steps as instructed when you run the following commands. \n",
        "\n",
        "auth.authenticate_user()\n",
        "gauth = GoogleAuth()\n",
        "gauth.credentials = GoogleCredentials.get_application_default()\n",
        "drive = GoogleDrive(gauth)"
      ],
      "execution_count": null,
      "outputs": []
    },
    {
      "cell_type": "markdown",
      "metadata": {
        "id": "8y4cEe1qz8ck"
      },
      "source": [
        "The **hw_compas** dataset has attributes age, sex, score, and race, with the following domains of values: age is an integer between 18 and 96, sex is one of ‘Male’ or ‘Female’, score is an integer between -1 and 10, race is one of 'Other', 'Caucasian', 'African-American', 'Hispanic', 'Asian', 'Native American'.\n",
        "\n",
        "The **hw_fake** is a synthetically generated dataset. We call this dataset “fake” rather than “synthetic” because you will be using it as input to the Data Synthesizer. We will use the term “synthetic” to refer to privacy-preserving datasets that are produced as the output of the Data Synthesizer."
      ]
    },
    {
      "cell_type": "code",
      "metadata": {
        "id": "hecmLsCU3lsg"
      },
      "source": [
        "fileid_compas = '12nKVg66nQkHX9gLFL-wXpgppCNSoasFJ'    \n",
        "real_data_file = 'hw_compas.csv'\n",
        "\n",
        "fileid_fake = '125JShDZAur7zQSugMoLi-JiIohtcvGY1'    \n",
        "fake_data_file = 'hw_fake.csv'\n",
        "\n",
        "downloaded = drive.CreateFile({'id':fileid_compas}) \n",
        "downloaded.GetContentFile(real_data_file)  \n",
        "df_real = pd.read_csv(real_data_file)\n",
        "\n",
        "downloaded = drive.CreateFile({'id':fileid_fake}) \n",
        "downloaded.GetContentFile(fake_data_file)  \n",
        "df_fake = pd.read_csv(fake_data_file)"
      ],
      "execution_count": null,
      "outputs": []
    },
    {
      "cell_type": "code",
      "metadata": {
        "id": "lO3yp6GS1S2J"
      },
      "source": [
        "# Set up some paths\n",
        "real_description_files = {'random mode':                   'description(random).json', \n",
        "                     'independent attribute mode':    'description(independent).json', \n",
        "                     'correlated attribute mode':     'description(correlated).json',\n",
        "                     'correlated attribute mode k=2':    'description(correlated).json',}\n",
        "real_synthetic_data_files = {'random mode':                'synthetic data(random).csv', \n",
        "                        'independent attribute mode': 'synthetic data(independent).csv', \n",
        "                        'correlated attribute mode':  'synthetic data(correlated).csv',\n",
        "                        'correlated attribute mode k=2':    'synthetic data(correlated).json',}\n",
        "\n",
        "# Generate synthetic datasets of size N=10000\n",
        "output_data_size = 10000 "
      ],
      "execution_count": null,
      "outputs": []
    },
    {
      "cell_type": "markdown",
      "metadata": {
        "id": "s2BjqoLFE0P8"
      },
      "source": [
        "###Real Synthetic Datasets"
      ]
    },
    {
      "cell_type": "markdown",
      "metadata": {
        "id": "tzPLYMfv3FFO"
      },
      "source": [
        "A: Random mode"
      ]
    },
    {
      "cell_type": "code",
      "metadata": {
        "id": "cwmlF9kRFdZp"
      },
      "source": [
        "# Generate A/random mode\n",
        "describer.describe_dataset_in_random_mode(real_data_file)\n",
        "describer.save_dataset_description_to_file(real_description_files['random mode'])"
      ],
      "execution_count": null,
      "outputs": []
    },
    {
      "cell_type": "code",
      "metadata": {
        "id": "Qi9MMBps3Qoc"
      },
      "source": [
        "# !cat 'description(random).json'"
      ],
      "execution_count": null,
      "outputs": []
    },
    {
      "cell_type": "code",
      "metadata": {
        "id": "cNibIdRb3R5V"
      },
      "source": [
        "generator.generate_dataset_in_random_mode(n=output_data_size, \n",
        "                                          description_file=real_description_files['random mode'], \n",
        "                                          seed=0, \n",
        "                                          minimum=0, \n",
        "                                          maximum=100)"
      ],
      "execution_count": null,
      "outputs": []
    },
    {
      "cell_type": "code",
      "metadata": {
        "id": "BtvJjGYq3dgs"
      },
      "source": [
        "generator.save_synthetic_data(real_synthetic_data_files['random mode'])\n",
        "\n",
        "a_random = pd.read_csv(real_synthetic_data_files['random mode'])"
      ],
      "execution_count": null,
      "outputs": []
    },
    {
      "cell_type": "code",
      "metadata": {
        "colab": {
          "base_uri": "https://localhost:8080/",
          "height": 204
        },
        "id": "qBJcIRt93sN8",
        "outputId": "60cc1c89-456a-477b-fd15-f8802f0261f3"
      },
      "source": [
        "a_random.head()"
      ],
      "execution_count": null,
      "outputs": [
        {
          "output_type": "execute_result",
          "data": {
            "text/html": [
              "<div>\n",
              "<style scoped>\n",
              "    .dataframe tbody tr th:only-of-type {\n",
              "        vertical-align: middle;\n",
              "    }\n",
              "\n",
              "    .dataframe tbody tr th {\n",
              "        vertical-align: top;\n",
              "    }\n",
              "\n",
              "    .dataframe thead th {\n",
              "        text-align: right;\n",
              "    }\n",
              "</style>\n",
              "<table border=\"1\" class=\"dataframe\">\n",
              "  <thead>\n",
              "    <tr style=\"text-align: right;\">\n",
              "      <th></th>\n",
              "      <th>sex</th>\n",
              "      <th>age</th>\n",
              "      <th>race</th>\n",
              "      <th>score</th>\n",
              "    </tr>\n",
              "  </thead>\n",
              "  <tbody>\n",
              "    <tr>\n",
              "      <th>0</th>\n",
              "      <td>Male</td>\n",
              "      <td>9</td>\n",
              "      <td>Native American</td>\n",
              "      <td>10</td>\n",
              "    </tr>\n",
              "    <tr>\n",
              "      <th>1</th>\n",
              "      <td>Female</td>\n",
              "      <td>35</td>\n",
              "      <td>Hispanic</td>\n",
              "      <td>1</td>\n",
              "    </tr>\n",
              "    <tr>\n",
              "      <th>2</th>\n",
              "      <td>Female</td>\n",
              "      <td>78</td>\n",
              "      <td>Other</td>\n",
              "      <td>6</td>\n",
              "    </tr>\n",
              "    <tr>\n",
              "      <th>3</th>\n",
              "      <td>Male</td>\n",
              "      <td>32</td>\n",
              "      <td>African-American</td>\n",
              "      <td>6</td>\n",
              "    </tr>\n",
              "    <tr>\n",
              "      <th>4</th>\n",
              "      <td>Female</td>\n",
              "      <td>58</td>\n",
              "      <td>Hispanic</td>\n",
              "      <td>9</td>\n",
              "    </tr>\n",
              "  </tbody>\n",
              "</table>\n",
              "</div>"
            ],
            "text/plain": [
              "      sex  age              race  score\n",
              "0    Male    9   Native American     10\n",
              "1  Female   35          Hispanic      1\n",
              "2  Female   78             Other      6\n",
              "3    Male   32  African-American      6\n",
              "4  Female   58          Hispanic      9"
            ]
          },
          "metadata": {
            "tags": []
          },
          "execution_count": 86
        }
      ]
    },
    {
      "cell_type": "markdown",
      "metadata": {
        "id": "eV9Yfxam3vxr"
      },
      "source": [
        "B: Independent mode (epsilon = 0.1)"
      ]
    },
    {
      "cell_type": "code",
      "metadata": {
        "id": "JI2KGJhQ0syZ"
      },
      "source": [
        "# Generate B/independent attribute mode with epsilon = 0.1\n",
        "describer.describe_dataset_in_independent_attribute_mode(real_data_file, epsilon=0.1)\n",
        "describer.save_dataset_description_to_file(real_description_files['independent attribute mode'])"
      ],
      "execution_count": null,
      "outputs": []
    },
    {
      "cell_type": "code",
      "metadata": {
        "id": "yi14RU5g4hcT"
      },
      "source": [
        "generator.generate_dataset_in_independent_mode(n=output_data_size, \n",
        "                                          description_file=real_description_files['independent attribute mode'], \n",
        "                                          seed=0)"
      ],
      "execution_count": null,
      "outputs": []
    },
    {
      "cell_type": "code",
      "metadata": {
        "id": "dzPQhK325EZw"
      },
      "source": [
        "generator.save_synthetic_data(real_synthetic_data_files['independent attribute mode'])\n",
        "b_independent = pd.read_csv(real_synthetic_data_files['independent attribute mode'])"
      ],
      "execution_count": null,
      "outputs": []
    },
    {
      "cell_type": "code",
      "metadata": {
        "colab": {
          "base_uri": "https://localhost:8080/",
          "height": 204
        },
        "id": "8dxHG7io5Lsw",
        "outputId": "8179e96f-300c-430b-850a-3dd5bb6ced8d"
      },
      "source": [
        "b_independent.head()"
      ],
      "execution_count": null,
      "outputs": [
        {
          "output_type": "execute_result",
          "data": {
            "text/html": [
              "<div>\n",
              "<style scoped>\n",
              "    .dataframe tbody tr th:only-of-type {\n",
              "        vertical-align: middle;\n",
              "    }\n",
              "\n",
              "    .dataframe tbody tr th {\n",
              "        vertical-align: top;\n",
              "    }\n",
              "\n",
              "    .dataframe thead th {\n",
              "        text-align: right;\n",
              "    }\n",
              "</style>\n",
              "<table border=\"1\" class=\"dataframe\">\n",
              "  <thead>\n",
              "    <tr style=\"text-align: right;\">\n",
              "      <th></th>\n",
              "      <th>sex</th>\n",
              "      <th>age</th>\n",
              "      <th>race</th>\n",
              "      <th>score</th>\n",
              "    </tr>\n",
              "  </thead>\n",
              "  <tbody>\n",
              "    <tr>\n",
              "      <th>0</th>\n",
              "      <td>Male</td>\n",
              "      <td>45.0</td>\n",
              "      <td>African-American</td>\n",
              "      <td>7</td>\n",
              "    </tr>\n",
              "    <tr>\n",
              "      <th>1</th>\n",
              "      <td>Male</td>\n",
              "      <td>25.0</td>\n",
              "      <td>African-American</td>\n",
              "      <td>4</td>\n",
              "    </tr>\n",
              "    <tr>\n",
              "      <th>2</th>\n",
              "      <td>Male</td>\n",
              "      <td>27.0</td>\n",
              "      <td>Native American</td>\n",
              "      <td>1</td>\n",
              "    </tr>\n",
              "    <tr>\n",
              "      <th>3</th>\n",
              "      <td>Male</td>\n",
              "      <td>19.0</td>\n",
              "      <td>African-American</td>\n",
              "      <td>8</td>\n",
              "    </tr>\n",
              "    <tr>\n",
              "      <th>4</th>\n",
              "      <td>Male</td>\n",
              "      <td>20.0</td>\n",
              "      <td>Other</td>\n",
              "      <td>4</td>\n",
              "    </tr>\n",
              "  </tbody>\n",
              "</table>\n",
              "</div>"
            ],
            "text/plain": [
              "    sex   age              race  score\n",
              "0  Male  45.0  African-American      7\n",
              "1  Male  25.0  African-American      4\n",
              "2  Male  27.0   Native American      1\n",
              "3  Male  19.0  African-American      8\n",
              "4  Male  20.0             Other      4"
            ]
          },
          "metadata": {
            "tags": []
          },
          "execution_count": 90
        }
      ]
    },
    {
      "cell_type": "markdown",
      "metadata": {
        "id": "qyy_FjNw39Yj"
      },
      "source": [
        "C: Correlated mode (epsilon=0.1, k=1)"
      ]
    },
    {
      "cell_type": "code",
      "metadata": {
        "colab": {
          "base_uri": "https://localhost:8080/"
        },
        "id": "5sMIr7vL0ufs",
        "outputId": "7ccf75cc-70d5-4a70-c198-58cc8a72815a"
      },
      "source": [
        "# Generate C/correlated attribute mode with epsilon = 0.1, Bayes net degree k=1\n",
        "describer.describe_dataset_in_correlated_attribute_mode(real_data_file, \n",
        "                                                        epsilon=0.1, \n",
        "                                                        k=1)\n",
        "# display_bayesian_network(describer.bayesian_network)\n",
        "\n",
        "describer.save_dataset_description_to_file(real_description_files['correlated attribute mode'])"
      ],
      "execution_count": null,
      "outputs": [
        {
          "output_type": "stream",
          "text": [
            "================ Constructing Bayesian Network (BN) ================\n",
            "Adding ROOT score\n",
            "Adding attribute age\n",
            "Adding attribute sex\n",
            "Adding attribute race\n",
            "========================== BN constructed ==========================\n"
          ],
          "name": "stdout"
        }
      ]
    },
    {
      "cell_type": "code",
      "metadata": {
        "id": "f6Hztx1w5eVe"
      },
      "source": [
        "generator.generate_dataset_in_correlated_attribute_mode(n=output_data_size, \n",
        "                                          description_file=real_description_files['correlated attribute mode'], \n",
        "                                          seed=0)"
      ],
      "execution_count": null,
      "outputs": []
    },
    {
      "cell_type": "code",
      "metadata": {
        "id": "1XUZljja5riv"
      },
      "source": [
        "generator.save_synthetic_data(real_synthetic_data_files['correlated attribute mode'])\n",
        "c_correlate = pd.read_csv(real_synthetic_data_files['correlated attribute mode'])"
      ],
      "execution_count": null,
      "outputs": []
    },
    {
      "cell_type": "code",
      "metadata": {
        "colab": {
          "base_uri": "https://localhost:8080/",
          "height": 204
        },
        "id": "kHp0ndFX5z0o",
        "outputId": "c1788726-ee2c-443f-9fcd-aff1c7121b60"
      },
      "source": [
        "c_correlate.head()"
      ],
      "execution_count": null,
      "outputs": [
        {
          "output_type": "execute_result",
          "data": {
            "text/html": [
              "<div>\n",
              "<style scoped>\n",
              "    .dataframe tbody tr th:only-of-type {\n",
              "        vertical-align: middle;\n",
              "    }\n",
              "\n",
              "    .dataframe tbody tr th {\n",
              "        vertical-align: top;\n",
              "    }\n",
              "\n",
              "    .dataframe thead th {\n",
              "        text-align: right;\n",
              "    }\n",
              "</style>\n",
              "<table border=\"1\" class=\"dataframe\">\n",
              "  <thead>\n",
              "    <tr style=\"text-align: right;\">\n",
              "      <th></th>\n",
              "      <th>sex</th>\n",
              "      <th>age</th>\n",
              "      <th>race</th>\n",
              "      <th>score</th>\n",
              "    </tr>\n",
              "  </thead>\n",
              "  <tbody>\n",
              "    <tr>\n",
              "      <th>0</th>\n",
              "      <td>Male</td>\n",
              "      <td>60.0</td>\n",
              "      <td>Asian</td>\n",
              "      <td>5</td>\n",
              "    </tr>\n",
              "    <tr>\n",
              "      <th>1</th>\n",
              "      <td>Male</td>\n",
              "      <td>37.0</td>\n",
              "      <td>Caucasian</td>\n",
              "      <td>7</td>\n",
              "    </tr>\n",
              "    <tr>\n",
              "      <th>2</th>\n",
              "      <td>Male</td>\n",
              "      <td>20.0</td>\n",
              "      <td>Caucasian</td>\n",
              "      <td>5</td>\n",
              "    </tr>\n",
              "    <tr>\n",
              "      <th>3</th>\n",
              "      <td>Male</td>\n",
              "      <td>23.0</td>\n",
              "      <td>Hispanic</td>\n",
              "      <td>5</td>\n",
              "    </tr>\n",
              "    <tr>\n",
              "      <th>4</th>\n",
              "      <td>Male</td>\n",
              "      <td>28.0</td>\n",
              "      <td>African-American</td>\n",
              "      <td>4</td>\n",
              "    </tr>\n",
              "  </tbody>\n",
              "</table>\n",
              "</div>"
            ],
            "text/plain": [
              "    sex   age              race  score\n",
              "0  Male  60.0             Asian      5\n",
              "1  Male  37.0         Caucasian      7\n",
              "2  Male  20.0         Caucasian      5\n",
              "3  Male  23.0          Hispanic      5\n",
              "4  Male  28.0  African-American      4"
            ]
          },
          "metadata": {
            "tags": []
          },
          "execution_count": 94
        }
      ]
    },
    {
      "cell_type": "markdown",
      "metadata": {
        "id": "5vbsLwTl4EBq"
      },
      "source": [
        "D: Correlated mode(epsilon=0.1, k=2)"
      ]
    },
    {
      "cell_type": "code",
      "metadata": {
        "colab": {
          "base_uri": "https://localhost:8080/"
        },
        "id": "C_Z4cp720-Nr",
        "outputId": "9479f1f4-bf0b-4867-fc9b-7da6cfbb1c07"
      },
      "source": [
        "# Generate D/correlated attribute mode with epsilon = 0.1, Bayes net degree k=2\n",
        "describer.describe_dataset_in_correlated_attribute_mode(real_data_file, \n",
        "                                                        epsilon=0.1, \n",
        "                                                        k=2)\n",
        "# display_bayesian_network(describer.bayesian_network)\n",
        "\n",
        "describer.save_dataset_description_to_file(real_description_files['correlated attribute mode k=2'])"
      ],
      "execution_count": null,
      "outputs": [
        {
          "output_type": "stream",
          "text": [
            "================ Constructing Bayesian Network (BN) ================\n",
            "Adding ROOT score\n",
            "Adding attribute age\n",
            "Adding attribute sex\n",
            "Adding attribute race\n",
            "========================== BN constructed ==========================\n"
          ],
          "name": "stdout"
        }
      ]
    },
    {
      "cell_type": "code",
      "metadata": {
        "id": "Cadj9C_v6pfE"
      },
      "source": [
        "generator.generate_dataset_in_correlated_attribute_mode(n=output_data_size, \n",
        "                                          description_file=real_description_files['correlated attribute mode k=2'], \n",
        "                                          seed=0)"
      ],
      "execution_count": null,
      "outputs": []
    },
    {
      "cell_type": "code",
      "metadata": {
        "id": "0YVoMRJU6ul5"
      },
      "source": [
        "generator.save_synthetic_data(real_synthetic_data_files['correlated attribute mode k=2'])\n",
        "d_correlate = pd.read_csv(real_synthetic_data_files['correlated attribute mode k=2'])"
      ],
      "execution_count": null,
      "outputs": []
    },
    {
      "cell_type": "code",
      "metadata": {
        "colab": {
          "base_uri": "https://localhost:8080/",
          "height": 204
        },
        "id": "qnUJbIO660X3",
        "outputId": "6302d8ec-7857-4bc0-97c3-23b10cedf7b6"
      },
      "source": [
        "d_correlate.head()"
      ],
      "execution_count": null,
      "outputs": [
        {
          "output_type": "execute_result",
          "data": {
            "text/html": [
              "<div>\n",
              "<style scoped>\n",
              "    .dataframe tbody tr th:only-of-type {\n",
              "        vertical-align: middle;\n",
              "    }\n",
              "\n",
              "    .dataframe tbody tr th {\n",
              "        vertical-align: top;\n",
              "    }\n",
              "\n",
              "    .dataframe thead th {\n",
              "        text-align: right;\n",
              "    }\n",
              "</style>\n",
              "<table border=\"1\" class=\"dataframe\">\n",
              "  <thead>\n",
              "    <tr style=\"text-align: right;\">\n",
              "      <th></th>\n",
              "      <th>sex</th>\n",
              "      <th>age</th>\n",
              "      <th>race</th>\n",
              "      <th>score</th>\n",
              "    </tr>\n",
              "  </thead>\n",
              "  <tbody>\n",
              "    <tr>\n",
              "      <th>0</th>\n",
              "      <td>Male</td>\n",
              "      <td>72.0</td>\n",
              "      <td>African-American</td>\n",
              "      <td>5</td>\n",
              "    </tr>\n",
              "    <tr>\n",
              "      <th>1</th>\n",
              "      <td>Male</td>\n",
              "      <td>79.0</td>\n",
              "      <td>African-American</td>\n",
              "      <td>7</td>\n",
              "    </tr>\n",
              "    <tr>\n",
              "      <th>2</th>\n",
              "      <td>Male</td>\n",
              "      <td>47.0</td>\n",
              "      <td>African-American</td>\n",
              "      <td>5</td>\n",
              "    </tr>\n",
              "    <tr>\n",
              "      <th>3</th>\n",
              "      <td>Female</td>\n",
              "      <td>39.0</td>\n",
              "      <td>Caucasian</td>\n",
              "      <td>5</td>\n",
              "    </tr>\n",
              "    <tr>\n",
              "      <th>4</th>\n",
              "      <td>Male</td>\n",
              "      <td>24.0</td>\n",
              "      <td>African-American</td>\n",
              "      <td>3</td>\n",
              "    </tr>\n",
              "  </tbody>\n",
              "</table>\n",
              "</div>"
            ],
            "text/plain": [
              "      sex   age              race  score\n",
              "0    Male  72.0  African-American      5\n",
              "1    Male  79.0  African-American      7\n",
              "2    Male  47.0  African-American      5\n",
              "3  Female  39.0         Caucasian      5\n",
              "4    Male  24.0  African-American      3"
            ]
          },
          "metadata": {
            "tags": []
          },
          "execution_count": 98
        }
      ]
    },
    {
      "cell_type": "markdown",
      "metadata": {
        "id": "xHzFlL1IE_u0"
      },
      "source": [
        "###Fake Synthetic Dataset "
      ]
    },
    {
      "cell_type": "code",
      "metadata": {
        "id": "KJ8higJ9FpAT"
      },
      "source": [
        "# Set up some paths\n",
        "fake_description_files = {'random mode':                   'description(random).json', \n",
        "                     'independent attribute mode':    'description(independent).json', \n",
        "                     'correlated attribute mode':     'description(correlated).json',\n",
        "                     'correlated attribute mode k=2':    'description(correlated).json',}\n",
        "fake_synthetic_data_files = {'random mode':                'synthetic data(random).csv', \n",
        "                        'independent attribute mode': 'synthetic data(independent).csv', \n",
        "                        'correlated attribute mode':  'synthetic data(correlated).csv',\n",
        "                        'correlated attribute mode k=2':    'synthetic data(correlated).json',}\n"
      ],
      "execution_count": null,
      "outputs": []
    },
    {
      "cell_type": "markdown",
      "metadata": {
        "id": "yVQP0UfpFQQw"
      },
      "source": [
        "A: Random mode "
      ]
    },
    {
      "cell_type": "code",
      "metadata": {
        "id": "-i3O7ZMhFySt"
      },
      "source": [
        "# Generate A/random mode\n",
        "describer.describe_dataset_in_random_mode(fake_data_file)\n",
        "describer.save_dataset_description_to_file(fake_description_files['random mode'])"
      ],
      "execution_count": null,
      "outputs": []
    },
    {
      "cell_type": "code",
      "metadata": {
        "id": "KGY6HKGWF5Zc"
      },
      "source": [
        "generator.generate_dataset_in_random_mode(n=output_data_size, \n",
        "                                          description_file=fake_description_files['random mode'], \n",
        "                                          seed=0, \n",
        "                                          minimum=0, \n",
        "                                          maximum=100)"
      ],
      "execution_count": null,
      "outputs": []
    },
    {
      "cell_type": "code",
      "metadata": {
        "id": "395Hl5M7GFKd"
      },
      "source": [
        "generator.save_synthetic_data(fake_synthetic_data_files['random mode'])\n",
        "\n",
        "a_fake_random = pd.read_csv(fake_synthetic_data_files['random mode'])"
      ],
      "execution_count": null,
      "outputs": []
    },
    {
      "cell_type": "code",
      "metadata": {
        "colab": {
          "base_uri": "https://localhost:8080/",
          "height": 204
        },
        "id": "UZ0Ex2cqGLvm",
        "outputId": "11ae475a-ea02-41ce-85a7-a74bb23090cc"
      },
      "source": [
        "a_fake_random.head()"
      ],
      "execution_count": null,
      "outputs": [
        {
          "output_type": "execute_result",
          "data": {
            "text/html": [
              "<div>\n",
              "<style scoped>\n",
              "    .dataframe tbody tr th:only-of-type {\n",
              "        vertical-align: middle;\n",
              "    }\n",
              "\n",
              "    .dataframe tbody tr th {\n",
              "        vertical-align: top;\n",
              "    }\n",
              "\n",
              "    .dataframe thead th {\n",
              "        text-align: right;\n",
              "    }\n",
              "</style>\n",
              "<table border=\"1\" class=\"dataframe\">\n",
              "  <thead>\n",
              "    <tr style=\"text-align: right;\">\n",
              "      <th></th>\n",
              "      <th>parent_1</th>\n",
              "      <th>parent_2</th>\n",
              "      <th>child_1</th>\n",
              "      <th>child_2</th>\n",
              "    </tr>\n",
              "  </thead>\n",
              "  <tbody>\n",
              "    <tr>\n",
              "      <th>0</th>\n",
              "      <td>0</td>\n",
              "      <td>1</td>\n",
              "      <td>1</td>\n",
              "      <td>1</td>\n",
              "    </tr>\n",
              "    <tr>\n",
              "      <th>1</th>\n",
              "      <td>2</td>\n",
              "      <td>2</td>\n",
              "      <td>0</td>\n",
              "      <td>0</td>\n",
              "    </tr>\n",
              "    <tr>\n",
              "      <th>2</th>\n",
              "      <td>0</td>\n",
              "      <td>1</td>\n",
              "      <td>0</td>\n",
              "      <td>1</td>\n",
              "    </tr>\n",
              "    <tr>\n",
              "      <th>3</th>\n",
              "      <td>2</td>\n",
              "      <td>1</td>\n",
              "      <td>0</td>\n",
              "      <td>2</td>\n",
              "    </tr>\n",
              "    <tr>\n",
              "      <th>4</th>\n",
              "      <td>2</td>\n",
              "      <td>0</td>\n",
              "      <td>2</td>\n",
              "      <td>2</td>\n",
              "    </tr>\n",
              "  </tbody>\n",
              "</table>\n",
              "</div>"
            ],
            "text/plain": [
              "   parent_1  parent_2  child_1  child_2\n",
              "0         0         1        1        1\n",
              "1         2         2        0        0\n",
              "2         0         1        0        1\n",
              "3         2         1        0        2\n",
              "4         2         0        2        2"
            ]
          },
          "metadata": {
            "tags": []
          },
          "execution_count": 103
        }
      ]
    },
    {
      "cell_type": "markdown",
      "metadata": {
        "id": "36dgl-SfFT-h"
      },
      "source": [
        "B: Independent mode (epsilon=0.1)"
      ]
    },
    {
      "cell_type": "code",
      "metadata": {
        "id": "H0zlLYBZGU34"
      },
      "source": [
        "# Generate B/independent attribute mode with epsilon = 0.1\n",
        "describer.describe_dataset_in_independent_attribute_mode(fake_data_file, epsilon=0.1)\n",
        "describer.save_dataset_description_to_file(fake_description_files['independent attribute mode'])"
      ],
      "execution_count": null,
      "outputs": []
    },
    {
      "cell_type": "code",
      "metadata": {
        "id": "pvnNxFlxGdVc"
      },
      "source": [
        "generator.generate_dataset_in_independent_mode(n=output_data_size, \n",
        "                                          description_file=fake_description_files['independent attribute mode'], \n",
        "                                          seed=0)"
      ],
      "execution_count": null,
      "outputs": []
    },
    {
      "cell_type": "code",
      "metadata": {
        "id": "D5xbhRcyGkJc"
      },
      "source": [
        "generator.save_synthetic_data(fake_synthetic_data_files['independent attribute mode'])\n",
        "b_fake_independent = pd.read_csv(fake_synthetic_data_files['independent attribute mode'])"
      ],
      "execution_count": null,
      "outputs": []
    },
    {
      "cell_type": "markdown",
      "metadata": {
        "id": "fQI9F4inFa0z"
      },
      "source": [
        "C: Correlated mode (epsilon=0.1, k=1)"
      ]
    },
    {
      "cell_type": "code",
      "metadata": {
        "colab": {
          "base_uri": "https://localhost:8080/"
        },
        "id": "qbSIiFA5GwxB",
        "outputId": "fbd5c9e5-d77a-4935-ba59-aa4a1d569963"
      },
      "source": [
        "# Generate C/correlated attribute mode with epsilon = 0.1, Bayes net degree k=1\n",
        "describer.describe_dataset_in_correlated_attribute_mode(fake_data_file, \n",
        "                                                        epsilon=0.1, \n",
        "                                                        k=1)\n",
        "# display_bayesian_network(describer.bayesian_network)\n",
        "\n",
        "describer.save_dataset_description_to_file(fake_description_files['correlated attribute mode'])"
      ],
      "execution_count": null,
      "outputs": [
        {
          "output_type": "stream",
          "text": [
            "================ Constructing Bayesian Network (BN) ================\n",
            "Adding ROOT child_2\n",
            "Adding attribute parent_2\n",
            "Adding attribute child_1\n",
            "Adding attribute parent_1\n",
            "========================== BN constructed ==========================\n"
          ],
          "name": "stdout"
        }
      ]
    },
    {
      "cell_type": "code",
      "metadata": {
        "id": "omtVLpC_Gw6R"
      },
      "source": [
        "generator.generate_dataset_in_correlated_attribute_mode(n=output_data_size, \n",
        "                                          description_file=fake_description_files['correlated attribute mode'], \n",
        "                                          seed=0)"
      ],
      "execution_count": null,
      "outputs": []
    },
    {
      "cell_type": "code",
      "metadata": {
        "id": "KBfUNXeeGxDR"
      },
      "source": [
        "generator.save_synthetic_data(fake_synthetic_data_files['correlated attribute mode'])\n",
        "c_fake_correlate = pd.read_csv(fake_synthetic_data_files['correlated attribute mode'])"
      ],
      "execution_count": null,
      "outputs": []
    },
    {
      "cell_type": "markdown",
      "metadata": {
        "id": "pvdIlTTeFjMK"
      },
      "source": [
        "D: Correlated mode (epsilon=0.1, k=2)"
      ]
    },
    {
      "cell_type": "code",
      "metadata": {
        "colab": {
          "base_uri": "https://localhost:8080/"
        },
        "id": "_2OIp4WOGxog",
        "outputId": "19b2645e-f33c-4f06-dc56-26617aeaad6f"
      },
      "source": [
        "# Generate D/correlated attribute mode with epsilon = 0.1, Bayes net degree k=2\n",
        "describer.describe_dataset_in_correlated_attribute_mode(fake_data_file, \n",
        "                                                        epsilon=0.1, \n",
        "                                                        k=2)\n",
        "# display_bayesian_network(describer.bayesian_network)\n",
        "\n",
        "describer.save_dataset_description_to_file(fake_description_files['correlated attribute mode k=2'])"
      ],
      "execution_count": null,
      "outputs": [
        {
          "output_type": "stream",
          "text": [
            "================ Constructing Bayesian Network (BN) ================\n",
            "Adding ROOT child_2\n",
            "Adding attribute parent_2\n",
            "Adding attribute child_1\n",
            "Adding attribute parent_1\n",
            "========================== BN constructed ==========================\n"
          ],
          "name": "stdout"
        }
      ]
    },
    {
      "cell_type": "code",
      "metadata": {
        "id": "Mf9G7pkhGxvr"
      },
      "source": [
        "generator.generate_dataset_in_correlated_attribute_mode(n=output_data_size, \n",
        "                                          description_file=fake_description_files['correlated attribute mode k=2'], \n",
        "                                          seed=0)"
      ],
      "execution_count": null,
      "outputs": []
    },
    {
      "cell_type": "code",
      "metadata": {
        "id": "ofNBLm8MGx4D"
      },
      "source": [
        "generator.save_synthetic_data(fake_synthetic_data_files['correlated attribute mode k=2'])\n",
        "d_fake_correlate = pd.read_csv(fake_synthetic_data_files['correlated attribute mode k=2'])"
      ],
      "execution_count": null,
      "outputs": []
    },
    {
      "cell_type": "markdown",
      "metadata": {
        "id": "9jSaXvMoFdZu"
      },
      "source": [
        "## Part (a)"
      ]
    },
    {
      "cell_type": "markdown",
      "metadata": {
        "id": "DyXI_gY_FdZx"
      },
      "source": [
        "### Q1\n",
        "\n",
        "Median, Mean, Min, Max of __age__ for each setting A, B, C and D, compare to the ground truth value in __hw_compas__, present results in a table"
      ]
    },
    {
      "cell_type": "code",
      "metadata": {
        "id": "46SYIsHy7iye"
      },
      "source": [
        "a_values = [a_random[\"age\"].median(),a_random[\"age\"].mean(),a_random[\"age\"].min(),a_random[\"age\"].max()]\n",
        "b_values = [b_independent[\"age\"].median(),b_independent[\"age\"].mean(),b_independent[\"age\"].min(),b_independent[\"age\"].max()]\n",
        "c_values = [c_correlate[\"age\"].median(),c_correlate[\"age\"].mean(),c_correlate[\"age\"].min(),c_correlate[\"age\"].max()]\n",
        "d_values = [d_correlate[\"age\"].median(),d_correlate[\"age\"].mean(),d_correlate[\"age\"].min(),d_correlate[\"age\"].max()]\n",
        "truth_values = [df_real[\"age\"].median(),df_real[\"age\"].mean(),df_real[\"age\"].min(),df_real[\"age\"].max()] "
      ],
      "execution_count": null,
      "outputs": []
    },
    {
      "cell_type": "code",
      "metadata": {
        "id": "gUBmNx8q7jkn"
      },
      "source": [
        "Metric = ['median','mean','min','max']\n",
        "Metrics = {'Setting': Metric,\"A\":a_values, \"B\":b_values, \"C\": c_values, \"D\": d_values, 'Ground Truth': truth_values}\n"
      ],
      "execution_count": null,
      "outputs": []
    },
    {
      "cell_type": "code",
      "metadata": {
        "colab": {
          "base_uri": "https://localhost:8080/",
          "height": 204
        },
        "id": "kEU95GD28gbU",
        "outputId": "eb73f06f-58d8-4fec-d036-34adfa272886"
      },
      "source": [
        "values = pd.DataFrame(Metrics)\n",
        "table = pd.pivot_table(values, columns=['Setting'])\n",
        "table"
      ],
      "execution_count": null,
      "outputs": [
        {
          "output_type": "execute_result",
          "data": {
            "text/html": [
              "<div>\n",
              "<style scoped>\n",
              "    .dataframe tbody tr th:only-of-type {\n",
              "        vertical-align: middle;\n",
              "    }\n",
              "\n",
              "    .dataframe tbody tr th {\n",
              "        vertical-align: top;\n",
              "    }\n",
              "\n",
              "    .dataframe thead th {\n",
              "        text-align: right;\n",
              "    }\n",
              "</style>\n",
              "<table border=\"1\" class=\"dataframe\">\n",
              "  <thead>\n",
              "    <tr style=\"text-align: right;\">\n",
              "      <th>Setting</th>\n",
              "      <th>max</th>\n",
              "      <th>mean</th>\n",
              "      <th>median</th>\n",
              "      <th>min</th>\n",
              "    </tr>\n",
              "  </thead>\n",
              "  <tbody>\n",
              "    <tr>\n",
              "      <th>A</th>\n",
              "      <td>100.0</td>\n",
              "      <td>50.300800</td>\n",
              "      <td>50.0</td>\n",
              "      <td>0.0</td>\n",
              "    </tr>\n",
              "    <tr>\n",
              "      <th>B</th>\n",
              "      <td>96.0</td>\n",
              "      <td>36.883400</td>\n",
              "      <td>32.0</td>\n",
              "      <td>18.0</td>\n",
              "    </tr>\n",
              "    <tr>\n",
              "      <th>C</th>\n",
              "      <td>96.0</td>\n",
              "      <td>45.264100</td>\n",
              "      <td>38.0</td>\n",
              "      <td>18.0</td>\n",
              "    </tr>\n",
              "    <tr>\n",
              "      <th>D</th>\n",
              "      <td>96.0</td>\n",
              "      <td>45.581500</td>\n",
              "      <td>40.0</td>\n",
              "      <td>18.0</td>\n",
              "    </tr>\n",
              "    <tr>\n",
              "      <th>Ground Truth</th>\n",
              "      <td>96.0</td>\n",
              "      <td>35.143319</td>\n",
              "      <td>32.0</td>\n",
              "      <td>18.0</td>\n",
              "    </tr>\n",
              "  </tbody>\n",
              "</table>\n",
              "</div>"
            ],
            "text/plain": [
              "Setting         max       mean  median   min\n",
              "A             100.0  50.300800    50.0   0.0\n",
              "B              96.0  36.883400    32.0  18.0\n",
              "C              96.0  45.264100    38.0  18.0\n",
              "D              96.0  45.581500    40.0  18.0\n",
              "Ground Truth   96.0  35.143319    32.0  18.0"
            ]
          },
          "metadata": {
            "tags": []
          },
          "execution_count": 115
        }
      ]
    },
    {
      "cell_type": "markdown",
      "metadata": {
        "id": "ZFgyc2B4FdZ6"
      },
      "source": [
        "### Q2\n",
        "\n",
        "Plot the distributions of values of age and sex attributes in hw_compas and in synthetic datasets generated under settings A and B. \n",
        "Some more sophisticated statistical measure that’s good for independent attribute mode - __Two-sample Kolmogorov–Smirnov test__ and __KL-divergence__. Also show the difference visually, comparing real vs. synthetic"
      ]
    },
    {
      "cell_type": "code",
      "metadata": {
        "colab": {
          "base_uri": "https://localhost:8080/",
          "height": 921
        },
        "id": "83WMtybD9HsY",
        "outputId": "e99cf00a-5f70-4c84-fd5d-423139fa7ca7"
      },
      "source": [
        "# plot distributions for age\n",
        "df_real[\"age\"].hist()\n",
        "plt.xlabel(\"Age\")\n",
        "plt.ylabel(\"Frequency\")\n",
        "plt.title(\"Ground Truth\")\n",
        "plt.show()\n",
        "\n",
        "a_random[\"age\"].hist()\n",
        "plt.xlabel(\"Age\")\n",
        "plt.ylabel(\"Frequency\")\n",
        "plt.title(\"A: Random mode\")\n",
        "plt.show()\n",
        "\n",
        "b_independent[\"age\"].hist()\n",
        "plt.xlabel(\"Age\")\n",
        "plt.ylabel(\"Frequency\")\n",
        "plt.title(\"B: Independent mode (epsilon=0.1)\")\n",
        "plt.show()\n",
        "\n",
        "'''\n",
        "c_correlate[\"age\"].hist()\n",
        "plt.xlabel(\"Age\")\n",
        "plt.ylabel(\"Frequency\")\n",
        "plt.title(\"Correlated mode (epsilon=0.1, k=1)\")\n",
        "plt.show()\n",
        "\n",
        "d_correlate[\"age\"].hist()\n",
        "plt.xlabel(\"Age\")\n",
        "plt.ylabel(\"Frequency\")\n",
        "plt.title(\"Correlated mode (epsilon=0.1, k=2)\")\n",
        "plt.show()\n",
        "'''"
      ],
      "execution_count": null,
      "outputs": [
        {
          "output_type": "display_data",
          "data": {
            "image/png": "[encoded data removed]",
            "text/plain": [
              "<Figure size 432x288 with 1 Axes>"
            ]
          },
          "metadata": {
            "tags": [],
            "needs_background": "light"
          }
        },
        {
          "output_type": "display_data",
          "data": {
            "image/png": "[encoded data removed]",
            "text/plain": [
              "<Figure size 432x288 with 1 Axes>"
            ]
          },
          "metadata": {
            "tags": [],
            "needs_background": "light"
          }
        },
        {
          "output_type": "display_data",
          "data": {
            "image/png": "[encoded data removed]",
            "text/plain": [
              "<Figure size 432x288 with 1 Axes>"
            ]
          },
          "metadata": {
            "tags": [],
            "needs_background": "light"
          }
        },
        {
          "output_type": "execute_result",
          "data": {
            "application/vnd.google.colaboratory.intrinsic+json": {
              "type": "string"
            },
            "text/plain": [
              "'\\nc_correlate[\"age\"].hist()\\nplt.xlabel(\"Age\")\\nplt.ylabel(\"Frequency\")\\nplt.title(\"Correlated mode (epsilon=0.1, k=1)\")\\nplt.show()\\n\\nd_correlate[\"age\"].hist()\\nplt.xlabel(\"Age\")\\nplt.ylabel(\"Frequency\")\\nplt.title(\"Correlated mode (epsilon=0.1, k=2)\")\\nplt.show()\\n'"
            ]
          },
          "metadata": {
            "tags": []
          },
          "execution_count": 116
        }
      ]
    },
    {
      "cell_type": "code",
      "metadata": {
        "colab": {
          "base_uri": "https://localhost:8080/",
          "height": 921
        },
        "id": "c_sH_VtD-yN2",
        "outputId": "c527fe15-7f2f-4ff1-b546-43cc7ed207fd"
      },
      "source": [
        "# plot distributions for sex\n",
        "df_real[\"sex\"].hist()\n",
        "plt.xlabel(\"Sex\")\n",
        "plt.ylabel(\"Frequency\")\n",
        "plt.title(\"Ground Truth\")\n",
        "plt.show()\n",
        "\n",
        "a_random[\"sex\"].hist()\n",
        "plt.xlabel(\"Sex\")\n",
        "plt.ylabel(\"Frequency\")\n",
        "plt.title(\"A: Random mode\")\n",
        "plt.show()\n",
        "\n",
        "b_independent[\"sex\"].hist()\n",
        "plt.xlabel(\"Sex\")\n",
        "plt.ylabel(\"Frequency\")\n",
        "plt.title(\"B: Independent mode (epsilon=0.1)\")\n",
        "plt.show()\n",
        "\n",
        "'''\n",
        "c_correlate[\"sex\"].hist()\n",
        "plt.xlabel(\"Sex\")\n",
        "plt.ylabel(\"Frequency\")\n",
        "plt.title(\"Correlated mode (epsilon=0.1, k=1)\")\n",
        "plt.show()\n",
        "\n",
        "d_correlate[\"sex\"].hist()\n",
        "plt.xlabel(\"Sex\")\n",
        "plt.ylabel(\"Frequency\")\n",
        "plt.title(\"Correlated mode (epsilon=0.1, k=2)\")\n",
        "plt.show()\n",
        "'''"
      ],
      "execution_count": null,
      "outputs": [
        {
          "output_type": "display_data",
          "data": {
            "image/png": "[encoded data removed]",
            "text/plain": [
              "<Figure size 432x288 with 1 Axes>"
            ]
          },
          "metadata": {
            "tags": [],
            "needs_background": "light"
          }
        },
        {
          "output_type": "display_data",
          "data": {
            "image/png": "[encoded data removed]",
            "text/plain": [
              "<Figure size 432x288 with 1 Axes>"
            ]
          },
          "metadata": {
            "tags": [],
            "needs_background": "light"
          }
        },
        {
          "output_type": "display_data",
          "data": {
            "image/png": "[encoded data removed]",
            "text/plain": [
              "<Figure size 432x288 with 1 Axes>"
            ]
          },
          "metadata": {
            "tags": [],
            "needs_background": "light"
          }
        },
        {
          "output_type": "execute_result",
          "data": {
            "application/vnd.google.colaboratory.intrinsic+json": {
              "type": "string"
            },
            "text/plain": [
              "'\\nc_correlate[\"sex\"].hist()\\nplt.xlabel(\"Sex\")\\nplt.ylabel(\"Frequency\")\\nplt.title(\"Correlated mode (epsilon=0.1, k=1)\")\\nplt.show()\\n\\nd_correlate[\"sex\"].hist()\\nplt.xlabel(\"Sex\")\\nplt.ylabel(\"Frequency\")\\nplt.title(\"Correlated mode (epsilon=0.1, k=2)\")\\nplt.show()\\n'"
            ]
          },
          "metadata": {
            "tags": []
          },
          "execution_count": 117
        }
      ]
    },
    {
      "cell_type": "markdown",
      "metadata": {
        "id": "g-Or3PInFdan"
      },
      "source": [
        "#### Two-sample Kolmogorov–Smirnov test for continous attributes"
      ]
    },
    {
      "cell_type": "code",
      "metadata": {
        "id": "yTzh1CM6Fdap"
      },
      "source": [
        "from scipy.stats import ks_2samp\n",
        "\n",
        "def ks_test(df_in: pd.DataFrame, df_out: pd.DataFrame, attr: str):\n",
        "    \"\"\"\n",
        "    df_in: the sensitive dataset\n",
        "    df_out: the synthetic dataset\n",
        "    attr: the attribute that will be calculated for Two-sample Kolmogorov–Smirnov test.\n",
        "    \"\"\"\n",
        "    return ks_2samp(df_in[attr], df_out[attr])[0]"
      ],
      "execution_count": null,
      "outputs": []
    },
    {
      "cell_type": "markdown",
      "metadata": {
        "id": "bj7ak0KnATXT"
      },
      "source": [
        "Age attribute KS test"
      ]
    },
    {
      "cell_type": "code",
      "metadata": {
        "colab": {
          "base_uri": "https://localhost:8080/"
        },
        "id": "ANqFB64QAadV",
        "outputId": "02d93925-9aee-4683-ca2e-1c5494beae7a"
      },
      "source": [
        "ks_test(df_real, a_random, 'age')"
      ],
      "execution_count": null,
      "outputs": [
        {
          "output_type": "execute_result",
          "data": {
            "text/plain": [
              "0.373353049247257"
            ]
          },
          "metadata": {
            "tags": []
          },
          "execution_count": 119
        }
      ]
    },
    {
      "cell_type": "code",
      "metadata": {
        "colab": {
          "base_uri": "https://localhost:8080/"
        },
        "id": "BT5EKuRjAcPS",
        "outputId": "c9d49ee7-85ff-4ff0-97e8-c67c0fa5fbf3"
      },
      "source": [
        "ks_test(df_real, b_independent, 'age')"
      ],
      "execution_count": null,
      "outputs": [
        {
          "output_type": "execute_result",
          "data": {
            "text/plain": [
              "0.053053049247256956"
            ]
          },
          "metadata": {
            "tags": []
          },
          "execution_count": 120
        }
      ]
    },
    {
      "cell_type": "code",
      "metadata": {
        "colab": {
          "base_uri": "https://localhost:8080/"
        },
        "id": "-OrRLhy-Acu_",
        "outputId": "3dbae211-ce75-4788-b41c-2568cb6f6327"
      },
      "source": [
        "ks_test(df_real, c_correlate, 'age')"
      ],
      "execution_count": null,
      "outputs": [
        {
          "output_type": "execute_result",
          "data": {
            "text/plain": [
              "0.2061490941566726"
            ]
          },
          "metadata": {
            "tags": []
          },
          "execution_count": 121
        }
      ]
    },
    {
      "cell_type": "code",
      "metadata": {
        "colab": {
          "base_uri": "https://localhost:8080/"
        },
        "id": "AFczW2-zAc7N",
        "outputId": "7d7f036b-5ea6-45bd-aeae-5ea251c0fa86"
      },
      "source": [
        "ks_test(df_real, d_correlate, 'age')"
      ],
      "execution_count": null,
      "outputs": [
        {
          "output_type": "execute_result",
          "data": {
            "text/plain": [
              "0.21042615463128345"
            ]
          },
          "metadata": {
            "tags": []
          },
          "execution_count": 122
        }
      ]
    },
    {
      "cell_type": "markdown",
      "metadata": {
        "id": "X1eUjSSxFda3"
      },
      "source": [
        "#### KL-divergence for categorical attributes"
      ]
    },
    {
      "cell_type": "code",
      "metadata": {
        "id": "cidvm1mAFda3"
      },
      "source": [
        "from scipy.stats import entropy\n",
        "\n",
        "def get_distribution_of_categorical_attribute(attribute: pd.Series, indicies=None):\n",
        "    distribution = attribute.dropna().value_counts()\n",
        "    if indicies is not None:\n",
        "        for idx in set(indicies) - set(distribution.index):\n",
        "            distribution.loc[idx] = 0\n",
        "    distribution.sort_index(inplace=True)\n",
        "    return distribution/sum(distribution)\n",
        "\n",
        "def kl_test(df_in: pd.DataFrame, df_out: pd.DataFrame, attr: str):\n",
        "    \"\"\"\n",
        "    df_in: the sensitive dataset\n",
        "    df_out: the synthetic dataset\n",
        "    attr: the attribute that will be calculated for KL-divergence.\n",
        "    \"\"\"\n",
        "    distribution_in = get_distribution_of_categorical_attribute(df_in[attr])\n",
        "    distribution_out = get_distribution_of_categorical_attribute(df_out[attr], distribution_in.index)\n",
        "    return entropy(distribution_out, distribution_in)"
      ],
      "execution_count": null,
      "outputs": []
    },
    {
      "cell_type": "markdown",
      "metadata": {
        "id": "97o4QznYpWrP"
      },
      "source": [
        "Race attribute KL test (I just wanted to explore more, but this is not included in my report) "
      ]
    },
    {
      "cell_type": "code",
      "metadata": {
        "colab": {
          "base_uri": "https://localhost:8080/"
        },
        "id": "5XKr08_apZ7P",
        "outputId": "381668a7-dc0c-40a3-b030-1900f84c1124"
      },
      "source": [
        "kl_test(df_real, a_random, 'race') "
      ],
      "execution_count": null,
      "outputs": [
        {
          "output_type": "execute_result",
          "data": {
            "text/plain": [
              "1.22342144033677"
            ]
          },
          "metadata": {
            "tags": []
          },
          "execution_count": 124
        }
      ]
    },
    {
      "cell_type": "code",
      "metadata": {
        "colab": {
          "base_uri": "https://localhost:8080/"
        },
        "id": "sNHx0RnevJfN",
        "outputId": "940c8d4f-cd6a-44d3-fbe1-e9fc8713104f"
      },
      "source": [
        "kl_test(df_real, b_independent, 'race') "
      ],
      "execution_count": null,
      "outputs": [
        {
          "output_type": "execute_result",
          "data": {
            "text/plain": [
              "0.02142080166196068"
            ]
          },
          "metadata": {
            "tags": []
          },
          "execution_count": 125
        }
      ]
    },
    {
      "cell_type": "code",
      "metadata": {
        "colab": {
          "base_uri": "https://localhost:8080/"
        },
        "id": "Vn5OciMuvJoj",
        "outputId": "02ebd6ba-d8b2-471d-fbe9-12915698329c"
      },
      "source": [
        "kl_test(df_real, c_correlate, 'race') "
      ],
      "execution_count": null,
      "outputs": [
        {
          "output_type": "execute_result",
          "data": {
            "text/plain": [
              "0.15248579038221133"
            ]
          },
          "metadata": {
            "tags": []
          },
          "execution_count": 126
        }
      ]
    },
    {
      "cell_type": "code",
      "metadata": {
        "colab": {
          "base_uri": "https://localhost:8080/"
        },
        "id": "85scRYTgvJxp",
        "outputId": "f531ab36-11ae-4e11-b5f1-ea0c771acad2"
      },
      "source": [
        "kl_test(df_real, d_correlate, 'race') "
      ],
      "execution_count": null,
      "outputs": [
        {
          "output_type": "execute_result",
          "data": {
            "text/plain": [
              "0.18225221125059743"
            ]
          },
          "metadata": {
            "tags": []
          },
          "execution_count": 127
        }
      ]
    },
    {
      "cell_type": "markdown",
      "metadata": {
        "id": "vsUbKrw7BJdY"
      },
      "source": [
        "Sex attribute KL test"
      ]
    },
    {
      "cell_type": "code",
      "metadata": {
        "colab": {
          "base_uri": "https://localhost:8080/"
        },
        "id": "tjtGUO-TBLe9",
        "outputId": "817b9406-5d9c-412c-f26a-f35f26f4bda2"
      },
      "source": [
        "kl_test(df_real, a_random, 'sex')"
      ],
      "execution_count": null,
      "outputs": [
        {
          "output_type": "execute_result",
          "data": {
            "text/plain": [
              "0.22388927416119944"
            ]
          },
          "metadata": {
            "tags": []
          },
          "execution_count": 128
        }
      ]
    },
    {
      "cell_type": "code",
      "metadata": {
        "colab": {
          "base_uri": "https://localhost:8080/"
        },
        "id": "Oo3SNgzsBLoW",
        "outputId": "1bfd6f46-5bc9-46e8-894b-4a6ec68fb4b2"
      },
      "source": [
        "kl_test(df_real, b_independent, 'sex')"
      ],
      "execution_count": null,
      "outputs": [
        {
          "output_type": "execute_result",
          "data": {
            "text/plain": [
              "7.844002303542246e-05"
            ]
          },
          "metadata": {
            "tags": []
          },
          "execution_count": 129
        }
      ]
    },
    {
      "cell_type": "code",
      "metadata": {
        "colab": {
          "base_uri": "https://localhost:8080/"
        },
        "id": "9xq33RlbBLvk",
        "outputId": "90a98a6f-00e3-47b4-8ca7-03902cb4b9ee"
      },
      "source": [
        "kl_test(df_real, c_correlate, 'sex')"
      ],
      "execution_count": null,
      "outputs": [
        {
          "output_type": "execute_result",
          "data": {
            "text/plain": [
              "0.00017450426903609442"
            ]
          },
          "metadata": {
            "tags": []
          },
          "execution_count": 130
        }
      ]
    },
    {
      "cell_type": "code",
      "metadata": {
        "colab": {
          "base_uri": "https://localhost:8080/"
        },
        "id": "lMNZ_6N0BL5c",
        "outputId": "169b34fc-f0f1-4085-8de1-15cea27fe119"
      },
      "source": [
        "kl_test(df_real, d_correlate, 'sex')"
      ],
      "execution_count": null,
      "outputs": [
        {
          "output_type": "execute_result",
          "data": {
            "text/plain": [
              "0.026819997935613987"
            ]
          },
          "metadata": {
            "tags": []
          },
          "execution_count": 131
        }
      ]
    },
    {
      "cell_type": "markdown",
      "metadata": {
        "id": "XKzIAfI9FdbD"
      },
      "source": [
        "### Q3\n",
        "\n",
        "Compare the accuracy of correlated attribute mode with k=1 (C) and with k=2 (D). Display the __pairwise mutual information matrix by heatmaps__, showing mutual information between all pairs of attributes, in **hw_fake** and in two synthetic datasets (generated under C and D)."
      ]
    },
    {
      "cell_type": "code",
      "metadata": {
        "id": "vxgNbC60FdbE"
      },
      "source": [
        "# Use pairwise_attributes_mutual_information function. \n",
        "# For function parameters, refer to https://github.com/DataResponsibly/DataSynthesizer/blob/master/DataSynthesizer/lib/utils.py#L31\n",
        "import numpy as np\n",
        "from pandas import Series, DataFrame\n",
        "from sklearn.metrics import mutual_info_score, normalized_mutual_info_score\n",
        "\n",
        "def pairwise_attributes_mutual_information(dataset):\n",
        "    \"\"\"Compute normalized mutual information for all pairwise attributes. Return a DataFrame.\"\"\"\n",
        "    sorted_columns = sorted(dataset.columns)\n",
        "    mi_df = DataFrame(columns=sorted_columns, index=sorted_columns, dtype=float)\n",
        "    for row in mi_df.columns:\n",
        "        for col in mi_df.columns:\n",
        "            mi_df.loc[row, col] = normalized_mutual_info_score(dataset[row].astype(str),\n",
        "                                                               dataset[col].astype(str),\n",
        "                                                               average_method='arithmetic')\n",
        "    return mi_df"
      ],
      "execution_count": null,
      "outputs": []
    },
    {
      "cell_type": "code",
      "metadata": {
        "colab": {
          "base_uri": "https://localhost:8080/"
        },
        "id": "mX9SMd1KtS0b",
        "outputId": "fb0286ff-51e9-4ca2-850e-bb998e94c5fe"
      },
      "source": [
        "orig_mi_df = pairwise_attributes_mutual_information(df_fake)\n",
        "print(orig_mi_df)"
      ],
      "execution_count": null,
      "outputs": [
        {
          "output_type": "stream",
          "text": [
            "           child_1   child_2  parent_1  parent_2\n",
            "child_1   1.000000  0.211242  0.214345  0.195899\n",
            "child_2   0.211242  1.000000  0.208301  0.200690\n",
            "parent_1  0.214345  0.208301  1.000000  0.002421\n",
            "parent_2  0.195899  0.200690  0.002421  1.000000\n"
          ],
          "name": "stdout"
        }
      ]
    },
    {
      "cell_type": "code",
      "metadata": {
        "colab": {
          "base_uri": "https://localhost:8080/"
        },
        "id": "sChi2HQWEQIa",
        "outputId": "dab4d92e-c0aa-4823-8dea-8f9328783980"
      },
      "source": [
        "c_mi_df = pairwise_attributes_mutual_information(c_fake_correlate)\n",
        "print(c_mi_df)"
      ],
      "execution_count": null,
      "outputs": [
        {
          "output_type": "stream",
          "text": [
            "           child_1   child_2  parent_1  parent_2\n",
            "child_1   1.000000  0.007344  0.000981  0.289825\n",
            "child_2   0.007344  1.000000  0.194178  0.130105\n",
            "parent_1  0.000981  0.194178  1.000000  0.027984\n",
            "parent_2  0.289825  0.130105  0.027984  1.000000\n"
          ],
          "name": "stdout"
        }
      ]
    },
    {
      "cell_type": "code",
      "metadata": {
        "colab": {
          "base_uri": "https://localhost:8080/"
        },
        "id": "dIDF8ddmHv-P",
        "outputId": "6e764dee-f454-46fe-e089-5425e1c109e4"
      },
      "source": [
        "d_mi_df = pairwise_attributes_mutual_information(d_fake_correlate)\n",
        "print(d_mi_df)"
      ],
      "execution_count": null,
      "outputs": [
        {
          "output_type": "stream",
          "text": [
            "           child_1   child_2  parent_1  parent_2\n",
            "child_1   1.000000  0.155061  0.043875  0.042497\n",
            "child_2   0.155061  1.000000  0.183781  0.059603\n",
            "parent_1  0.043875  0.183781  1.000000  0.072291\n",
            "parent_2  0.042497  0.059603  0.072291  1.000000\n"
          ],
          "name": "stdout"
        }
      ]
    },
    {
      "cell_type": "code",
      "metadata": {
        "colab": {
          "base_uri": "https://localhost:8080/",
          "height": 285
        },
        "id": "runmPyf_u4Qe",
        "outputId": "016bc047-9a53-4e9a-8130-4777aca3cb15"
      },
      "source": [
        "# Use can sns.heatmap for pairwise mutual information\n",
        "# For examples, refer to https://seaborn.pydata.org/generated/seaborn.heatmap.html\n",
        "\n",
        "import seaborn as sns; sns.set_theme()\n",
        "\n",
        "z = sns.heatmap(orig_mi_df,vmax = 0.3, vmin = 0)\n",
        "plt.title(\"hw_fake\");"
      ],
      "execution_count": null,
      "outputs": [
        {
          "output_type": "display_data",
          "data": {
            "image/png": "[encoded data removed]",
            "text/plain": [
              "<Figure size 432x288 with 2 Axes>"
            ]
          },
          "metadata": {
            "tags": []
          }
        }
      ]
    },
    {
      "cell_type": "code",
      "metadata": {
        "colab": {
          "base_uri": "https://localhost:8080/",
          "height": 285
        },
        "id": "xyf52mfPFdbX",
        "outputId": "a8300064-945a-43cb-f67b-88602825f10b"
      },
      "source": [
        "x = sns.heatmap(c_mi_df,vmax = 0.3, vmin = 0)\n",
        "plt.title(\"C fake\");"
      ],
      "execution_count": null,
      "outputs": [
        {
          "output_type": "display_data",
          "data": {
            "image/png": "[encoded data removed]",
            "text/plain": [
              "<Figure size 432x288 with 2 Axes>"
            ]
          },
          "metadata": {
            "tags": []
          }
        }
      ]
    },
    {
      "cell_type": "code",
      "metadata": {
        "colab": {
          "base_uri": "https://localhost:8080/",
          "height": 285
        },
        "id": "ilyn84xYlSxz",
        "outputId": "1c21df79-1694-4f54-82bd-b33e27dce049"
      },
      "source": [
        "y = sns.heatmap(d_mi_df,vmax = 0.4, vmin = 0)\n",
        "plt.title(\"D fake\");"
      ],
      "execution_count": null,
      "outputs": [
        {
          "output_type": "display_data",
          "data": {
            "image/png": "[encoded data removed]",
            "text/plain": [
              "<Figure size 432x288 with 2 Axes>"
            ]
          },
          "metadata": {
            "tags": []
          }
        }
      ]
    },
    {
      "cell_type": "markdown",
      "metadata": {
        "id": "FpoWEnYTFdbb"
      },
      "source": [
        "## Part (b)\n",
        "\n",
        "Study the variability in accuracy of answers to Q1 and Q2 for data generation mode A, B and C: fix epsilon = 0.1, generate __10__ synthetic databases (by specifying different seeds).  Plot accuracy as a box-and-whiskers plot.  "
      ]
    },
    {
      "cell_type": "code",
      "metadata": {
        "colab": {
          "base_uri": "https://localhost:8080/"
        },
        "id": "vST6-2vrIalE",
        "outputId": "5370082e-6364-478b-8031-026c9548a834"
      },
      "source": [
        "median = np.zeros((3,10))\n",
        "mean = np.zeros((3,10))\n",
        "min = np.zeros((3,10))\n",
        "max = np.zeros((3,10))\n",
        "\n",
        "seeds = [0,1,2,3,4,5,6,7,8,9]\n",
        "\n",
        "for i in range(10):\n",
        "  # Set up some paths\n",
        "  real_description_files = {'random mode':                   'description(random).json', \n",
        "                     'independent attribute mode':    'description(independent).json', \n",
        "                     'correlated attribute mode':     'description(correlated).json'}\n",
        "  real_synthetic_data_files = {'random mode':                'synthetic data(random).csv', \n",
        "                        'independent attribute mode': 'synthetic data(independent).csv', \n",
        "                        'correlated attribute mode':  'synthetic data(correlated).csv'}\n",
        "  \n",
        "  # generate A using the seed\n",
        "  describer.describe_dataset_in_random_mode(real_data_file)\n",
        "  describer.save_dataset_description_to_file(real_description_files['random mode'])\n",
        "\n",
        "  generator.generate_dataset_in_random_mode(n=output_data_size, \n",
        "                                          description_file=real_description_files['random mode'], \n",
        "                                          seed=seeds[i], \n",
        "                                          minimum=0, \n",
        "                                          maximum=100)\n",
        "  generator.save_synthetic_data(real_synthetic_data_files['random mode'])\n",
        "  a_random = pd.read_csv(real_synthetic_data_files['random mode'])\n",
        "\n",
        "  # generate B using the seed and epsilon=0.1\n",
        "  describer.describe_dataset_in_independent_attribute_mode(real_data_file, epsilon=0.1)\n",
        "  describer.save_dataset_description_to_file(real_description_files['independent attribute mode'])  \n",
        "  \n",
        "  generator.generate_dataset_in_independent_mode(n=output_data_size, \n",
        "                                          description_file=real_description_files['independent attribute mode'], \n",
        "                                          seed=seeds[i])\n",
        "  \n",
        "  generator.save_synthetic_data(real_synthetic_data_files['independent attribute mode'])\n",
        "  b_independent = pd.read_csv(real_synthetic_data_files['independent attribute mode'])\n",
        "  \n",
        "  # generate C using the seed and epsilon=0.1\n",
        "  describer.describe_dataset_in_correlated_attribute_mode(real_data_file, \n",
        "                                                        epsilon=0.1, \n",
        "                                                        k=1)\n",
        "  describer.save_dataset_description_to_file(real_description_files['correlated attribute mode'])\n",
        "\n",
        "  generator.generate_dataset_in_correlated_attribute_mode(n=output_data_size, \n",
        "                                          description_file=real_description_files['correlated attribute mode'], \n",
        "                                          seed=seeds[i])\n",
        "  generator.save_synthetic_data(real_synthetic_data_files['correlated attribute mode'])\n",
        "  c_correlate = pd.read_csv(real_synthetic_data_files['correlated attribute mode'])\n",
        "\n",
        "  # calculate medians\n",
        "  median[0][i] = a_random[\"age\"].median()\n",
        "  median[1][i] = b_independent[\"age\"].median()\n",
        "  median[2][i] = c_correlate[\"age\"].median()\n",
        "\n",
        "  # calculate mean\n",
        "  mean[0][i] = a_random[\"age\"].mean()\n",
        "  mean[1][i] = b_independent[\"age\"].mean()\n",
        "  mean[2][i] = c_correlate[\"age\"].mean()\n",
        "\n",
        "  # calculate min \n",
        "  min[0][i] = a_random[\"age\"].min()\n",
        "  min[1][i] = b_independent[\"age\"].min()\n",
        "  min[2][i] = c_correlate[\"age\"].min()\n",
        "\n",
        "  # calculate max\n",
        "  max[0][i] = a_random[\"age\"].max()\n",
        "  max[1][i] = b_independent[\"age\"].max()\n",
        "  max[2][i] = c_correlate[\"age\"].max()\n"
      ],
      "execution_count": null,
      "outputs": [
        {
          "output_type": "stream",
          "text": [
            "================ Constructing Bayesian Network (BN) ================\n",
            "Adding ROOT score\n",
            "Adding attribute age\n",
            "Adding attribute sex\n",
            "Adding attribute race\n",
            "========================== BN constructed ==========================\n",
            "================ Constructing Bayesian Network (BN) ================\n",
            "Adding ROOT score\n",
            "Adding attribute age\n",
            "Adding attribute sex\n",
            "Adding attribute race\n",
            "========================== BN constructed ==========================\n",
            "================ Constructing Bayesian Network (BN) ================\n",
            "Adding ROOT score\n",
            "Adding attribute age\n",
            "Adding attribute sex\n",
            "Adding attribute race\n",
            "========================== BN constructed ==========================\n",
            "================ Constructing Bayesian Network (BN) ================\n",
            "Adding ROOT score\n",
            "Adding attribute age\n",
            "Adding attribute sex\n",
            "Adding attribute race\n",
            "========================== BN constructed ==========================\n",
            "================ Constructing Bayesian Network (BN) ================\n",
            "Adding ROOT score\n",
            "Adding attribute age\n",
            "Adding attribute sex\n",
            "Adding attribute race\n",
            "========================== BN constructed ==========================\n",
            "================ Constructing Bayesian Network (BN) ================\n",
            "Adding ROOT score\n",
            "Adding attribute age\n",
            "Adding attribute sex\n",
            "Adding attribute race\n",
            "========================== BN constructed ==========================\n",
            "================ Constructing Bayesian Network (BN) ================\n",
            "Adding ROOT score\n",
            "Adding attribute age\n",
            "Adding attribute sex\n",
            "Adding attribute race\n",
            "========================== BN constructed ==========================\n",
            "================ Constructing Bayesian Network (BN) ================\n",
            "Adding ROOT score\n",
            "Adding attribute age\n",
            "Adding attribute sex\n",
            "Adding attribute race\n",
            "========================== BN constructed ==========================\n",
            "================ Constructing Bayesian Network (BN) ================\n",
            "Adding ROOT score\n",
            "Adding attribute age\n",
            "Adding attribute sex\n",
            "Adding attribute race\n",
            "========================== BN constructed ==========================\n",
            "================ Constructing Bayesian Network (BN) ================\n",
            "Adding ROOT score\n",
            "Adding attribute age\n",
            "Adding attribute sex\n",
            "Adding attribute race\n",
            "========================== BN constructed ==========================\n"
          ],
          "name": "stdout"
        }
      ]
    },
    {
      "cell_type": "code",
      "metadata": {
        "colab": {
          "base_uri": "https://localhost:8080/"
        },
        "id": "8A974rWBecey",
        "outputId": "1749daba-4c1f-4bd1-e07d-428c38cb9f6e"
      },
      "source": [
        "print(median)\n",
        "print(mean)\n",
        "print(min)\n",
        "print(max)"
      ],
      "execution_count": null,
      "outputs": [
        {
          "output_type": "stream",
          "text": [
            "[[50. 50. 50. 50. 50. 50. 50. 50. 52. 50.]\n",
            " [32. 33. 33. 33. 33. 33. 32. 33. 32. 32.]\n",
            " [38. 39. 39. 39. 39. 39. 38. 38. 38. 39.]]\n",
            "[[50.3008 49.6333 50.1391 50.3169 50.3283 50.0036 50.0446 49.6582 50.8544\n",
            "  50.0983]\n",
            " [36.8834 37.146  37.136  37.0686 36.9816 37.3839 36.7614 36.9225 36.8984\n",
            "  37.0638]\n",
            " [45.2641 45.6694 45.6183 45.354  45.5823 45.8275 44.9928 45.1527 45.2163\n",
            "  45.3867]]\n",
            "[[ 0.  0.  0.  0.  0.  0.  0.  0.  0.  0.]\n",
            " [18. 18. 18. 18. 18. 18. 18. 18. 18. 18.]\n",
            " [18. 18. 18. 18. 18. 18. 18. 18. 18. 18.]]\n",
            "[[100. 100. 100. 100. 100. 100. 100. 100. 100. 100.]\n",
            " [ 96.  95.  96.  96.  96.  96.  96.  96.  96.  96.]\n",
            " [ 96.  96.  96.  96.  96.  96.  96.  96.  96.  96.]]\n"
          ],
          "name": "stdout"
        }
      ]
    },
    {
      "cell_type": "markdown",
      "metadata": {
        "id": "WANXFpcjJxcG"
      },
      "source": [
        "Plot median, mean, min, max as a box-and-whiskers plot of the values for all 10 databases, and evaluate the accuracy of the synthetic data by comparing these metrics to the ground truth median, mean, min, and max from the real data."
      ]
    },
    {
      "cell_type": "code",
      "metadata": {
        "colab": {
          "base_uri": "https://localhost:8080/",
          "height": 302
        },
        "id": "TCqsc-kFJTTu",
        "outputId": "a7f6056a-f0e2-4ac8-e2e7-59e14ce46f5d"
      },
      "source": [
        "# Median plot\n",
        "x_init = list(range(len(median)))\n",
        "x_tuned = [x + 0.35 for x in x_init]\n",
        "\n",
        "plt.boxplot([median[0][:], median[1][:], median[2][:]], labels=['A', 'B', 'C'])\n",
        "\n",
        "# Create labels, etc. \n",
        "plt.xlabel(\"Mode\")\n",
        "plt.ylabel(\"Median\")\n",
        "plt.legend()\n",
        "plt.show()"
      ],
      "execution_count": null,
      "outputs": [
        {
          "output_type": "stream",
          "text": [
            "No handles with labels found to put in legend.\n"
          ],
          "name": "stderr"
        },
        {
          "output_type": "display_data",
          "data": {
            "image/png": "[encoded data removed]",
            "text/plain": [
              "<Figure size 432x288 with 1 Axes>"
            ]
          },
          "metadata": {
            "tags": []
          }
        }
      ]
    },
    {
      "cell_type": "code",
      "metadata": {
        "colab": {
          "base_uri": "https://localhost:8080/",
          "height": 302
        },
        "id": "WtBBBBafuKvq",
        "outputId": "aae1d4ea-16dd-4a7d-c6fa-beccff87c674"
      },
      "source": [
        "# Mean plot\n",
        "x_init = list(range(len(mean)))\n",
        "x_tuned = [x + 0.35 for x in x_init]\n",
        "\n",
        "plt.boxplot([mean[0][:], mean[1][:], mean[2][:]], labels=['A', 'B', 'C'])\n",
        "\n",
        "# Create labels, etc. \n",
        "plt.xlabel(\"Mode\")\n",
        "plt.ylabel(\"Mean\")\n",
        "plt.legend()\n",
        "plt.show()"
      ],
      "execution_count": null,
      "outputs": [
        {
          "output_type": "stream",
          "text": [
            "No handles with labels found to put in legend.\n"
          ],
          "name": "stderr"
        },
        {
          "output_type": "display_data",
          "data": {
            "image/png": "[encoded data removed]",
            "text/plain": [
              "<Figure size 432x288 with 1 Axes>"
            ]
          },
          "metadata": {
            "tags": []
          }
        }
      ]
    },
    {
      "cell_type": "code",
      "metadata": {
        "colab": {
          "base_uri": "https://localhost:8080/",
          "height": 302
        },
        "id": "X9vPVK88uQ2t",
        "outputId": "3ae402c9-994c-443e-d954-18a129360ec4"
      },
      "source": [
        "# Min plot\n",
        "x_init = list(range(len(min)))\n",
        "x_tuned = [x + 0.35 for x in x_init]\n",
        "\n",
        "plt.boxplot([min[0][:], min[1][:], min[2][:]], labels=['A', 'B', 'C'])\n",
        "\n",
        "# Create labels, etc. \n",
        "plt.xlabel(\"Mode\")\n",
        "plt.ylabel(\"Min\")\n",
        "plt.legend()\n",
        "plt.show()"
      ],
      "execution_count": null,
      "outputs": [
        {
          "output_type": "stream",
          "text": [
            "No handles with labels found to put in legend.\n"
          ],
          "name": "stderr"
        },
        {
          "output_type": "display_data",
          "data": {
            "image/png": "[encoded data removed]",
            "text/plain": [
              "<Figure size 432x288 with 1 Axes>"
            ]
          },
          "metadata": {
            "tags": []
          }
        }
      ]
    },
    {
      "cell_type": "code",
      "metadata": {
        "colab": {
          "base_uri": "https://localhost:8080/",
          "height": 302
        },
        "id": "ynfHJYEtuWg8",
        "outputId": "d074e92c-d7dd-4288-ae3a-60d2764fecec"
      },
      "source": [
        "# Max plot\n",
        "x_init = list(range(len(max)))\n",
        "x_tuned = [x + 0.35 for x in x_init]\n",
        "\n",
        "plt.boxplot([max[0][:], max[1][:], max[2][:]], labels=['A', 'B', 'C'])\n",
        "\n",
        "# Create labels, etc. \n",
        "plt.xlabel(\"Mode\")\n",
        "plt.ylabel(\"Max\")\n",
        "plt.legend()\n",
        "plt.show()"
      ],
      "execution_count": null,
      "outputs": [
        {
          "output_type": "stream",
          "text": [
            "No handles with labels found to put in legend.\n"
          ],
          "name": "stderr"
        },
        {
          "output_type": "display_data",
          "data": {
            "image/png": "[encoded data removed]",
            "text/plain": [
              "<Figure size 432x288 with 1 Axes>"
            ]
          },
          "metadata": {
            "tags": []
          }
        }
      ]
    },
    {
      "cell_type": "markdown",
      "metadata": {
        "id": "UINl2ivCFdbk"
      },
      "source": [
        "## Part (c)\n",
        "\n",
        "Study how metrics of Q3 changes for data generation mode B, C, and D, as you vary __epsilon__."
      ]
    },
    {
      "cell_type": "code",
      "metadata": {
        "id": "-KxCPgSEJTAD",
        "colab": {
          "base_uri": "https://localhost:8080/"
        },
        "outputId": "187d0b47-99b6-45c6-c2e0-7fe409ff5928"
      },
      "source": [
        "'''\n",
        "b_median = np.zeros((10,10))\n",
        "b_mean = np.zeros((10,10))\n",
        "b_min = np.zeros((10,10))\n",
        "b_max = np.zeros((10,10))\n",
        "\n",
        "c_median = np.zeros((10,10))\n",
        "c_mean = np.zeros((10,10))\n",
        "c_min = np.zeros((10,10))\n",
        "c_max = np.zeros((10,10))\n",
        "\n",
        "d_median = np.zeros((10,10))\n",
        "d_mean = np.zeros((10,10))\n",
        "d_min = np.zeros((10,10))\n",
        "d_max = np.zeros((10,10))\n",
        "'''\n",
        "b_kl_test = np.zeros((10,10))\n",
        "c_kl_test = np.zeros((10,10))\n",
        "d_kl_test = np.zeros((10,10))\n",
        "\n",
        "seed = [0,1,2,3,4,5,6,7,8,9]\n",
        "epsilon = [0.01, 0.02, 0.03, 0.04, 0.05, 0.06, 0.07, 0.08, 0.09, 0.1]\n",
        "\n",
        "for i in range(10):\n",
        "  for j in range(10): \n",
        "    # Set up some paths\n",
        "    real_description_files = {'independent attribute mode':    'description(independent).json', \n",
        "                        'correlated attribute mode':     'description(correlated).json',\n",
        "                        'correlated attribute mode k=2':     'description(correlated).json'}\n",
        "    real_synthetic_data_files = {'independent attribute mode': 'synthetic data(independent).csv', \n",
        "                            'correlated attribute mode':  'synthetic data(correlated).csv',\n",
        "                            'correlated attribute mode k=2':  'synthetic data(correlated).csv'}\n",
        "      \n",
        "    # generate B using the seed and epsilon\n",
        "    describer.describe_dataset_in_independent_attribute_mode(real_data_file, epsilon=epsilon[j])\n",
        "    describer.save_dataset_description_to_file(real_description_files['independent attribute mode'])  \n",
        "      \n",
        "    generator.generate_dataset_in_independent_mode(n=output_data_size, \n",
        "                                              description_file=real_description_files['independent attribute mode'], \n",
        "                                              seed=seeds[i])\n",
        "      \n",
        "    generator.save_synthetic_data(real_synthetic_data_files['independent attribute mode'])\n",
        "    b_independent = pd.read_csv(real_synthetic_data_files['independent attribute mode'])\n",
        "      \n",
        "    # generate C using the seed and epsilon\n",
        "    describer.describe_dataset_in_correlated_attribute_mode(real_data_file, \n",
        "                                                            epsilon=epsilon[j], \n",
        "                                                            k=1)\n",
        "    describer.save_dataset_description_to_file(real_description_files['correlated attribute mode'])\n",
        "\n",
        "    generator.generate_dataset_in_correlated_attribute_mode(n=output_data_size, \n",
        "                                              description_file=real_description_files['correlated attribute mode'], \n",
        "                                              seed=seeds[i])\n",
        "    generator.save_synthetic_data(real_synthetic_data_files['correlated attribute mode'])\n",
        "    c_correlate = pd.read_csv(real_synthetic_data_files['correlated attribute mode'])\n",
        "\n",
        "    # generate C using the seed and epsilon\n",
        "    describer.describe_dataset_in_correlated_attribute_mode(real_data_file, \n",
        "                                                            epsilon=epsilon[j], \n",
        "                                                            k=2)\n",
        "    describer.save_dataset_description_to_file(real_description_files['correlated attribute mode k=2'])\n",
        "\n",
        "    generator.generate_dataset_in_correlated_attribute_mode(n=output_data_size, \n",
        "                                              description_file=real_description_files['correlated attribute mode k=2'], \n",
        "                                              seed=seeds[i])\n",
        "    generator.save_synthetic_data(real_synthetic_data_files['correlated attribute mode k=2'])\n",
        "    d_correlate = pd.read_csv(real_synthetic_data_files['correlated attribute mode k=2'])\n",
        "\n",
        "    '''\n",
        "    # calculate medians\n",
        "    b_median[i][j] = b_independent[\"race\"].median()\n",
        "    c_median[i][j] = c_correlate[\"race\"].median()\n",
        "    d_median[i][j] = d_correlate[\"race\"].median()\n",
        "\n",
        "    # calculate mean\n",
        "    b_mean[i][j] = b_independent[\"race\"].mean()\n",
        "    c_mean[i][j] = c_correlate[\"race\"].mean()\n",
        "    d_mean[i][j] = d_correlate[\"race\"].mean()\n",
        "\n",
        "    # calculate min \n",
        "    b_min[i][j] = b_independent[\"race\"].min()\n",
        "    c_min[i][j] = c_correlate[\"race\"].min()\n",
        "    d_min[i][j] = d_correlate[\"age\"].min()\n",
        "\n",
        "    # calculate max\n",
        "    b_max[i][j] = b_independent[\"race\"].max()\n",
        "    c_max[i][j] = c_correlate[\"race\"].max()\n",
        "    d_max[i][j] = d_correlate[\"race\"].max()\n",
        "    '''\n",
        "    # KL divergence\n",
        "    b_kl_test[i][j] = kl_test(df_real, b_independent, 'race') \n",
        "    c_kl_test[i][j] =  kl_test(df_real, c_correlate, 'race') \n",
        "    d_kl_test[i][j] = kl_test(df_real, d_correlate, 'race') \n",
        "\n"
      ],
      "execution_count": null,
      "outputs": [
        {
          "output_type": "stream",
          "text": [
            "================ Constructing Bayesian Network (BN) ================\n",
            "Adding ROOT score\n",
            "Adding attribute age\n",
            "Adding attribute sex\n",
            "Adding attribute race\n",
            "========================== BN constructed ==========================\n",
            "================ Constructing Bayesian Network (BN) ================\n",
            "Adding ROOT score\n",
            "Adding attribute age\n",
            "Adding attribute sex\n",
            "Adding attribute race\n",
            "========================== BN constructed ==========================\n",
            "================ Constructing Bayesian Network (BN) ================\n",
            "Adding ROOT score\n",
            "Adding attribute age\n",
            "Adding attribute sex\n",
            "Adding attribute race\n",
            "========================== BN constructed ==========================\n",
            "================ Constructing Bayesian Network (BN) ================\n",
            "Adding ROOT score\n",
            "Adding attribute age\n",
            "Adding attribute sex\n",
            "Adding attribute race\n",
            "========================== BN constructed ==========================\n",
            "================ Constructing Bayesian Network (BN) ================\n",
            "Adding ROOT score\n",
            "Adding attribute age\n",
            "Adding attribute sex\n",
            "Adding attribute race\n",
            "========================== BN constructed ==========================\n",
            "================ Constructing Bayesian Network (BN) ================\n",
            "Adding ROOT score\n",
            "Adding attribute age\n",
            "Adding attribute sex\n",
            "Adding attribute race\n",
            "========================== BN constructed ==========================\n",
            "================ Constructing Bayesian Network (BN) ================\n",
            "Adding ROOT score\n",
            "Adding attribute age\n",
            "Adding attribute sex\n",
            "Adding attribute race\n",
            "========================== BN constructed ==========================\n",
            "================ Constructing Bayesian Network (BN) ================\n",
            "Adding ROOT score\n",
            "Adding attribute age\n",
            "Adding attribute sex\n",
            "Adding attribute race\n",
            "========================== BN constructed ==========================\n",
            "================ Constructing Bayesian Network (BN) ================\n",
            "Adding ROOT score\n",
            "Adding attribute age\n",
            "Adding attribute sex\n",
            "Adding attribute race\n",
            "========================== BN constructed ==========================\n",
            "================ Constructing Bayesian Network (BN) ================\n",
            "Adding ROOT score\n",
            "Adding attribute age\n",
            "Adding attribute sex\n",
            "Adding attribute race\n",
            "========================== BN constructed ==========================\n",
            "================ Constructing Bayesian Network (BN) ================\n",
            "Adding ROOT score\n",
            "Adding attribute age\n",
            "Adding attribute sex\n",
            "Adding attribute race\n",
            "========================== BN constructed ==========================\n",
            "================ Constructing Bayesian Network (BN) ================\n",
            "Adding ROOT score\n",
            "Adding attribute age\n",
            "Adding attribute sex\n",
            "Adding attribute race\n",
            "========================== BN constructed ==========================\n",
            "================ Constructing Bayesian Network (BN) ================\n",
            "Adding ROOT score\n",
            "Adding attribute age\n",
            "Adding attribute sex\n",
            "Adding attribute race\n",
            "========================== BN constructed ==========================\n",
            "================ Constructing Bayesian Network (BN) ================\n",
            "Adding ROOT score\n",
            "Adding attribute age\n",
            "Adding attribute sex\n",
            "Adding attribute race\n",
            "========================== BN constructed ==========================\n",
            "================ Constructing Bayesian Network (BN) ================\n",
            "Adding ROOT score\n",
            "Adding attribute age\n",
            "Adding attribute sex\n",
            "Adding attribute race\n",
            "========================== BN constructed ==========================\n",
            "================ Constructing Bayesian Network (BN) ================\n",
            "Adding ROOT score\n",
            "Adding attribute age\n",
            "Adding attribute sex\n",
            "Adding attribute race\n",
            "========================== BN constructed ==========================\n",
            "================ Constructing Bayesian Network (BN) ================\n",
            "Adding ROOT score\n",
            "Adding attribute age\n",
            "Adding attribute sex\n",
            "Adding attribute race\n",
            "========================== BN constructed ==========================\n",
            "================ Constructing Bayesian Network (BN) ================\n",
            "Adding ROOT score\n",
            "Adding attribute age\n",
            "Adding attribute sex\n",
            "Adding attribute race\n",
            "========================== BN constructed ==========================\n",
            "================ Constructing Bayesian Network (BN) ================\n",
            "Adding ROOT score\n",
            "Adding attribute age\n",
            "Adding attribute sex\n",
            "Adding attribute race\n",
            "========================== BN constructed ==========================\n",
            "================ Constructing Bayesian Network (BN) ================\n",
            "Adding ROOT score\n",
            "Adding attribute age\n",
            "Adding attribute sex\n",
            "Adding attribute race\n",
            "========================== BN constructed ==========================\n",
            "================ Constructing Bayesian Network (BN) ================\n",
            "Adding ROOT score\n",
            "Adding attribute age\n",
            "Adding attribute sex\n",
            "Adding attribute race\n",
            "========================== BN constructed ==========================\n",
            "================ Constructing Bayesian Network (BN) ================\n",
            "Adding ROOT score\n",
            "Adding attribute age\n",
            "Adding attribute sex\n",
            "Adding attribute race\n",
            "========================== BN constructed ==========================\n",
            "================ Constructing Bayesian Network (BN) ================\n",
            "Adding ROOT score\n",
            "Adding attribute age\n",
            "Adding attribute sex\n",
            "Adding attribute race\n",
            "========================== BN constructed ==========================\n",
            "================ Constructing Bayesian Network (BN) ================\n",
            "Adding ROOT score\n",
            "Adding attribute age\n",
            "Adding attribute sex\n",
            "Adding attribute race\n",
            "========================== BN constructed ==========================\n",
            "================ Constructing Bayesian Network (BN) ================\n",
            "Adding ROOT score\n",
            "Adding attribute age\n",
            "Adding attribute sex\n",
            "Adding attribute race\n",
            "========================== BN constructed ==========================\n",
            "================ Constructing Bayesian Network (BN) ================\n",
            "Adding ROOT score\n",
            "Adding attribute age\n",
            "Adding attribute sex\n",
            "Adding attribute race\n",
            "========================== BN constructed ==========================\n",
            "================ Constructing Bayesian Network (BN) ================\n",
            "Adding ROOT score\n",
            "Adding attribute age\n",
            "Adding attribute sex\n",
            "Adding attribute race\n",
            "========================== BN constructed ==========================\n",
            "================ Constructing Bayesian Network (BN) ================\n",
            "Adding ROOT score\n",
            "Adding attribute age\n",
            "Adding attribute sex\n",
            "Adding attribute race\n",
            "========================== BN constructed ==========================\n",
            "================ Constructing Bayesian Network (BN) ================\n",
            "Adding ROOT score\n",
            "Adding attribute age\n",
            "Adding attribute sex\n",
            "Adding attribute race\n",
            "========================== BN constructed ==========================\n",
            "================ Constructing Bayesian Network (BN) ================\n",
            "Adding ROOT score\n",
            "Adding attribute age\n",
            "Adding attribute sex\n",
            "Adding attribute race\n",
            "========================== BN constructed ==========================\n",
            "================ Constructing Bayesian Network (BN) ================\n",
            "Adding ROOT score\n",
            "Adding attribute age\n",
            "Adding attribute sex\n",
            "Adding attribute race\n",
            "========================== BN constructed ==========================\n",
            "================ Constructing Bayesian Network (BN) ================\n",
            "Adding ROOT score\n",
            "Adding attribute age\n",
            "Adding attribute sex\n",
            "Adding attribute race\n",
            "========================== BN constructed ==========================\n",
            "================ Constructing Bayesian Network (BN) ================\n",
            "Adding ROOT score\n",
            "Adding attribute age\n",
            "Adding attribute sex\n",
            "Adding attribute race\n",
            "========================== BN constructed ==========================\n",
            "================ Constructing Bayesian Network (BN) ================\n",
            "Adding ROOT score\n",
            "Adding attribute age\n",
            "Adding attribute sex\n",
            "Adding attribute race\n",
            "========================== BN constructed ==========================\n",
            "================ Constructing Bayesian Network (BN) ================\n",
            "Adding ROOT score\n",
            "Adding attribute age\n",
            "Adding attribute sex\n",
            "Adding attribute race\n",
            "========================== BN constructed ==========================\n",
            "================ Constructing Bayesian Network (BN) ================\n",
            "Adding ROOT score\n",
            "Adding attribute age\n",
            "Adding attribute sex\n",
            "Adding attribute race\n",
            "========================== BN constructed ==========================\n",
            "================ Constructing Bayesian Network (BN) ================\n",
            "Adding ROOT score\n",
            "Adding attribute age\n",
            "Adding attribute sex\n",
            "Adding attribute race\n",
            "========================== BN constructed ==========================\n",
            "================ Constructing Bayesian Network (BN) ================\n",
            "Adding ROOT score\n",
            "Adding attribute age\n",
            "Adding attribute sex\n",
            "Adding attribute race\n",
            "========================== BN constructed ==========================\n",
            "================ Constructing Bayesian Network (BN) ================\n",
            "Adding ROOT score\n",
            "Adding attribute age\n",
            "Adding attribute sex\n",
            "Adding attribute race\n",
            "========================== BN constructed ==========================\n",
            "================ Constructing Bayesian Network (BN) ================\n",
            "Adding ROOT score\n",
            "Adding attribute age\n",
            "Adding attribute sex\n",
            "Adding attribute race\n",
            "========================== BN constructed ==========================\n",
            "================ Constructing Bayesian Network (BN) ================\n",
            "Adding ROOT score\n",
            "Adding attribute age\n",
            "Adding attribute sex\n",
            "Adding attribute race\n",
            "========================== BN constructed ==========================\n",
            "================ Constructing Bayesian Network (BN) ================\n",
            "Adding ROOT score\n",
            "Adding attribute age\n",
            "Adding attribute sex\n",
            "Adding attribute race\n",
            "========================== BN constructed ==========================\n",
            "================ Constructing Bayesian Network (BN) ================\n",
            "Adding ROOT score\n",
            "Adding attribute age\n",
            "Adding attribute sex\n",
            "Adding attribute race\n",
            "========================== BN constructed ==========================\n",
            "================ Constructing Bayesian Network (BN) ================\n",
            "Adding ROOT score\n",
            "Adding attribute age\n",
            "Adding attribute sex\n",
            "Adding attribute race\n",
            "========================== BN constructed ==========================\n",
            "================ Constructing Bayesian Network (BN) ================\n",
            "Adding ROOT score\n",
            "Adding attribute age\n",
            "Adding attribute sex\n",
            "Adding attribute race\n",
            "========================== BN constructed ==========================\n",
            "================ Constructing Bayesian Network (BN) ================\n",
            "Adding ROOT score\n",
            "Adding attribute age\n",
            "Adding attribute sex\n",
            "Adding attribute race\n",
            "========================== BN constructed ==========================\n",
            "================ Constructing Bayesian Network (BN) ================\n",
            "Adding ROOT score\n",
            "Adding attribute age\n",
            "Adding attribute sex\n",
            "Adding attribute race\n",
            "========================== BN constructed ==========================\n",
            "================ Constructing Bayesian Network (BN) ================\n",
            "Adding ROOT score\n",
            "Adding attribute age\n",
            "Adding attribute sex\n",
            "Adding attribute race\n",
            "========================== BN constructed ==========================\n",
            "================ Constructing Bayesian Network (BN) ================\n",
            "Adding ROOT score\n",
            "Adding attribute age\n",
            "Adding attribute sex\n",
            "Adding attribute race\n",
            "========================== BN constructed ==========================\n",
            "================ Constructing Bayesian Network (BN) ================\n",
            "Adding ROOT score\n",
            "Adding attribute age\n",
            "Adding attribute sex\n",
            "Adding attribute race\n",
            "========================== BN constructed ==========================\n",
            "================ Constructing Bayesian Network (BN) ================\n",
            "Adding ROOT score\n",
            "Adding attribute age\n",
            "Adding attribute sex\n",
            "Adding attribute race\n",
            "========================== BN constructed ==========================\n",
            "================ Constructing Bayesian Network (BN) ================\n",
            "Adding ROOT score\n",
            "Adding attribute age\n",
            "Adding attribute sex\n",
            "Adding attribute race\n",
            "========================== BN constructed ==========================\n",
            "================ Constructing Bayesian Network (BN) ================\n",
            "Adding ROOT score\n",
            "Adding attribute age\n",
            "Adding attribute sex\n",
            "Adding attribute race\n",
            "========================== BN constructed ==========================\n",
            "================ Constructing Bayesian Network (BN) ================\n",
            "Adding ROOT score\n",
            "Adding attribute age\n",
            "Adding attribute sex\n",
            "Adding attribute race\n",
            "========================== BN constructed ==========================\n",
            "================ Constructing Bayesian Network (BN) ================\n",
            "Adding ROOT score\n",
            "Adding attribute age\n",
            "Adding attribute sex\n",
            "Adding attribute race\n",
            "========================== BN constructed ==========================\n",
            "================ Constructing Bayesian Network (BN) ================\n",
            "Adding ROOT score\n",
            "Adding attribute age\n",
            "Adding attribute sex\n",
            "Adding attribute race\n",
            "========================== BN constructed ==========================\n",
            "================ Constructing Bayesian Network (BN) ================\n",
            "Adding ROOT score\n",
            "Adding attribute age\n",
            "Adding attribute sex\n",
            "Adding attribute race\n",
            "========================== BN constructed ==========================\n",
            "================ Constructing Bayesian Network (BN) ================\n",
            "Adding ROOT score\n",
            "Adding attribute age\n",
            "Adding attribute sex\n",
            "Adding attribute race\n",
            "========================== BN constructed ==========================\n",
            "================ Constructing Bayesian Network (BN) ================\n",
            "Adding ROOT score\n",
            "Adding attribute age\n",
            "Adding attribute sex\n",
            "Adding attribute race\n",
            "========================== BN constructed ==========================\n",
            "================ Constructing Bayesian Network (BN) ================\n",
            "Adding ROOT score\n",
            "Adding attribute age\n",
            "Adding attribute sex\n",
            "Adding attribute race\n",
            "========================== BN constructed ==========================\n",
            "================ Constructing Bayesian Network (BN) ================\n",
            "Adding ROOT score\n",
            "Adding attribute age\n",
            "Adding attribute sex\n",
            "Adding attribute race\n",
            "========================== BN constructed ==========================\n",
            "================ Constructing Bayesian Network (BN) ================\n",
            "Adding ROOT score\n",
            "Adding attribute age\n",
            "Adding attribute sex\n",
            "Adding attribute race\n",
            "========================== BN constructed ==========================\n",
            "================ Constructing Bayesian Network (BN) ================\n",
            "Adding ROOT score\n",
            "Adding attribute age\n",
            "Adding attribute sex\n",
            "Adding attribute race\n",
            "========================== BN constructed ==========================\n",
            "================ Constructing Bayesian Network (BN) ================\n",
            "Adding ROOT score\n",
            "Adding attribute age\n",
            "Adding attribute sex\n",
            "Adding attribute race\n",
            "========================== BN constructed ==========================\n",
            "================ Constructing Bayesian Network (BN) ================\n",
            "Adding ROOT score\n",
            "Adding attribute age\n",
            "Adding attribute sex\n",
            "Adding attribute race\n",
            "========================== BN constructed ==========================\n",
            "================ Constructing Bayesian Network (BN) ================\n",
            "Adding ROOT score\n",
            "Adding attribute age\n",
            "Adding attribute sex\n",
            "Adding attribute race\n",
            "========================== BN constructed ==========================\n",
            "================ Constructing Bayesian Network (BN) ================\n",
            "Adding ROOT score\n",
            "Adding attribute age\n",
            "Adding attribute sex\n",
            "Adding attribute race\n",
            "========================== BN constructed ==========================\n",
            "================ Constructing Bayesian Network (BN) ================\n",
            "Adding ROOT score\n",
            "Adding attribute age\n",
            "Adding attribute sex\n",
            "Adding attribute race\n",
            "========================== BN constructed ==========================\n",
            "================ Constructing Bayesian Network (BN) ================\n",
            "Adding ROOT score\n",
            "Adding attribute age\n",
            "Adding attribute sex\n",
            "Adding attribute race\n",
            "========================== BN constructed ==========================\n",
            "================ Constructing Bayesian Network (BN) ================\n",
            "Adding ROOT score\n",
            "Adding attribute age\n",
            "Adding attribute sex\n",
            "Adding attribute race\n",
            "========================== BN constructed ==========================\n",
            "================ Constructing Bayesian Network (BN) ================\n",
            "Adding ROOT score\n",
            "Adding attribute age\n",
            "Adding attribute sex\n",
            "Adding attribute race\n",
            "========================== BN constructed ==========================\n",
            "================ Constructing Bayesian Network (BN) ================\n",
            "Adding ROOT score\n",
            "Adding attribute age\n",
            "Adding attribute sex\n",
            "Adding attribute race\n",
            "========================== BN constructed ==========================\n",
            "================ Constructing Bayesian Network (BN) ================\n",
            "Adding ROOT score\n",
            "Adding attribute age\n",
            "Adding attribute sex\n",
            "Adding attribute race\n",
            "========================== BN constructed ==========================\n",
            "================ Constructing Bayesian Network (BN) ================\n",
            "Adding ROOT score\n",
            "Adding attribute age\n",
            "Adding attribute sex\n",
            "Adding attribute race\n",
            "========================== BN constructed ==========================\n",
            "================ Constructing Bayesian Network (BN) ================\n",
            "Adding ROOT score\n",
            "Adding attribute age\n",
            "Adding attribute sex\n",
            "Adding attribute race\n",
            "========================== BN constructed ==========================\n",
            "================ Constructing Bayesian Network (BN) ================\n",
            "Adding ROOT score\n",
            "Adding attribute age\n",
            "Adding attribute sex\n",
            "Adding attribute race\n",
            "========================== BN constructed ==========================\n",
            "================ Constructing Bayesian Network (BN) ================\n",
            "Adding ROOT score\n",
            "Adding attribute age\n",
            "Adding attribute sex\n",
            "Adding attribute race\n",
            "========================== BN constructed ==========================\n",
            "================ Constructing Bayesian Network (BN) ================\n",
            "Adding ROOT score\n",
            "Adding attribute age\n",
            "Adding attribute sex\n",
            "Adding attribute race\n",
            "========================== BN constructed ==========================\n",
            "================ Constructing Bayesian Network (BN) ================\n",
            "Adding ROOT score\n",
            "Adding attribute age\n",
            "Adding attribute sex\n",
            "Adding attribute race\n",
            "========================== BN constructed ==========================\n",
            "================ Constructing Bayesian Network (BN) ================\n",
            "Adding ROOT score\n",
            "Adding attribute age\n",
            "Adding attribute sex\n",
            "Adding attribute race\n",
            "========================== BN constructed ==========================\n",
            "================ Constructing Bayesian Network (BN) ================\n",
            "Adding ROOT score\n",
            "Adding attribute age\n",
            "Adding attribute sex\n",
            "Adding attribute race\n",
            "========================== BN constructed ==========================\n",
            "================ Constructing Bayesian Network (BN) ================\n",
            "Adding ROOT score\n",
            "Adding attribute age\n",
            "Adding attribute sex\n",
            "Adding attribute race\n",
            "========================== BN constructed ==========================\n",
            "================ Constructing Bayesian Network (BN) ================\n",
            "Adding ROOT score\n",
            "Adding attribute age\n",
            "Adding attribute sex\n",
            "Adding attribute race\n",
            "========================== BN constructed ==========================\n",
            "================ Constructing Bayesian Network (BN) ================\n",
            "Adding ROOT score\n",
            "Adding attribute age\n",
            "Adding attribute sex\n",
            "Adding attribute race\n",
            "========================== BN constructed ==========================\n",
            "================ Constructing Bayesian Network (BN) ================\n",
            "Adding ROOT score\n",
            "Adding attribute age\n",
            "Adding attribute sex\n",
            "Adding attribute race\n",
            "========================== BN constructed ==========================\n",
            "================ Constructing Bayesian Network (BN) ================\n",
            "Adding ROOT score\n",
            "Adding attribute age\n",
            "Adding attribute sex\n",
            "Adding attribute race\n",
            "========================== BN constructed ==========================\n",
            "================ Constructing Bayesian Network (BN) ================\n",
            "Adding ROOT score\n",
            "Adding attribute age\n",
            "Adding attribute sex\n",
            "Adding attribute race\n",
            "========================== BN constructed ==========================\n",
            "================ Constructing Bayesian Network (BN) ================\n",
            "Adding ROOT score\n",
            "Adding attribute age\n",
            "Adding attribute sex\n",
            "Adding attribute race\n",
            "========================== BN constructed ==========================\n",
            "================ Constructing Bayesian Network (BN) ================\n",
            "Adding ROOT score\n",
            "Adding attribute age\n",
            "Adding attribute sex\n",
            "Adding attribute race\n",
            "========================== BN constructed ==========================\n",
            "================ Constructing Bayesian Network (BN) ================\n",
            "Adding ROOT score\n",
            "Adding attribute age\n",
            "Adding attribute sex\n",
            "Adding attribute race\n",
            "========================== BN constructed ==========================\n",
            "================ Constructing Bayesian Network (BN) ================\n",
            "Adding ROOT score\n",
            "Adding attribute age\n",
            "Adding attribute sex\n",
            "Adding attribute race\n",
            "========================== BN constructed ==========================\n",
            "================ Constructing Bayesian Network (BN) ================\n",
            "Adding ROOT score\n",
            "Adding attribute age\n",
            "Adding attribute sex\n",
            "Adding attribute race\n",
            "========================== BN constructed ==========================\n",
            "================ Constructing Bayesian Network (BN) ================\n",
            "Adding ROOT score\n",
            "Adding attribute age\n",
            "Adding attribute sex\n",
            "Adding attribute race\n",
            "========================== BN constructed ==========================\n",
            "================ Constructing Bayesian Network (BN) ================\n",
            "Adding ROOT score\n",
            "Adding attribute age\n",
            "Adding attribute sex\n",
            "Adding attribute race\n",
            "========================== BN constructed ==========================\n",
            "================ Constructing Bayesian Network (BN) ================\n",
            "Adding ROOT score\n",
            "Adding attribute age\n",
            "Adding attribute sex\n",
            "Adding attribute race\n",
            "========================== BN constructed ==========================\n",
            "================ Constructing Bayesian Network (BN) ================\n",
            "Adding ROOT score\n",
            "Adding attribute age\n",
            "Adding attribute sex\n",
            "Adding attribute race\n",
            "========================== BN constructed ==========================\n",
            "================ Constructing Bayesian Network (BN) ================\n",
            "Adding ROOT score\n",
            "Adding attribute age\n",
            "Adding attribute sex\n",
            "Adding attribute race\n",
            "========================== BN constructed ==========================\n",
            "================ Constructing Bayesian Network (BN) ================\n",
            "Adding ROOT score\n",
            "Adding attribute age\n",
            "Adding attribute sex\n",
            "Adding attribute race\n",
            "========================== BN constructed ==========================\n",
            "================ Constructing Bayesian Network (BN) ================\n",
            "Adding ROOT score\n",
            "Adding attribute age\n",
            "Adding attribute sex\n",
            "Adding attribute race\n",
            "========================== BN constructed ==========================\n",
            "================ Constructing Bayesian Network (BN) ================\n",
            "Adding ROOT score\n",
            "Adding attribute age\n",
            "Adding attribute sex\n",
            "Adding attribute race\n",
            "========================== BN constructed ==========================\n",
            "================ Constructing Bayesian Network (BN) ================\n",
            "Adding ROOT score\n",
            "Adding attribute age\n",
            "Adding attribute sex\n",
            "Adding attribute race\n",
            "========================== BN constructed ==========================\n",
            "================ Constructing Bayesian Network (BN) ================\n",
            "Adding ROOT score\n",
            "Adding attribute age\n",
            "Adding attribute sex\n",
            "Adding attribute race\n",
            "========================== BN constructed ==========================\n",
            "================ Constructing Bayesian Network (BN) ================\n",
            "Adding ROOT score\n",
            "Adding attribute age\n",
            "Adding attribute sex\n",
            "Adding attribute race\n",
            "========================== BN constructed ==========================\n",
            "================ Constructing Bayesian Network (BN) ================\n",
            "Adding ROOT score\n",
            "Adding attribute age\n",
            "Adding attribute sex\n",
            "Adding attribute race\n",
            "========================== BN constructed ==========================\n",
            "================ Constructing Bayesian Network (BN) ================\n",
            "Adding ROOT score\n",
            "Adding attribute age\n",
            "Adding attribute sex\n",
            "Adding attribute race\n",
            "========================== BN constructed ==========================\n",
            "================ Constructing Bayesian Network (BN) ================\n",
            "Adding ROOT score\n",
            "Adding attribute age\n",
            "Adding attribute sex\n",
            "Adding attribute race\n",
            "========================== BN constructed ==========================\n",
            "================ Constructing Bayesian Network (BN) ================\n",
            "Adding ROOT score\n",
            "Adding attribute age\n",
            "Adding attribute sex\n",
            "Adding attribute race\n",
            "========================== BN constructed ==========================\n",
            "================ Constructing Bayesian Network (BN) ================\n",
            "Adding ROOT score\n",
            "Adding attribute age\n",
            "Adding attribute sex\n",
            "Adding attribute race\n",
            "========================== BN constructed ==========================\n",
            "================ Constructing Bayesian Network (BN) ================\n",
            "Adding ROOT score\n",
            "Adding attribute age\n",
            "Adding attribute sex\n",
            "Adding attribute race\n",
            "========================== BN constructed ==========================\n",
            "================ Constructing Bayesian Network (BN) ================\n",
            "Adding ROOT score\n",
            "Adding attribute age\n",
            "Adding attribute sex\n",
            "Adding attribute race\n",
            "========================== BN constructed ==========================\n",
            "================ Constructing Bayesian Network (BN) ================\n",
            "Adding ROOT score\n",
            "Adding attribute age\n",
            "Adding attribute sex\n",
            "Adding attribute race\n",
            "========================== BN constructed ==========================\n",
            "================ Constructing Bayesian Network (BN) ================\n",
            "Adding ROOT score\n",
            "Adding attribute age\n",
            "Adding attribute sex\n",
            "Adding attribute race\n",
            "========================== BN constructed ==========================\n",
            "================ Constructing Bayesian Network (BN) ================\n",
            "Adding ROOT score\n",
            "Adding attribute age\n",
            "Adding attribute sex\n",
            "Adding attribute race\n",
            "========================== BN constructed ==========================\n",
            "================ Constructing Bayesian Network (BN) ================\n",
            "Adding ROOT score\n",
            "Adding attribute age\n",
            "Adding attribute sex\n",
            "Adding attribute race\n",
            "========================== BN constructed ==========================\n",
            "================ Constructing Bayesian Network (BN) ================\n",
            "Adding ROOT score\n",
            "Adding attribute age\n",
            "Adding attribute sex\n",
            "Adding attribute race\n",
            "========================== BN constructed ==========================\n",
            "================ Constructing Bayesian Network (BN) ================\n",
            "Adding ROOT score\n",
            "Adding attribute age\n",
            "Adding attribute sex\n",
            "Adding attribute race\n",
            "========================== BN constructed ==========================\n",
            "================ Constructing Bayesian Network (BN) ================\n",
            "Adding ROOT score\n",
            "Adding attribute age\n",
            "Adding attribute sex\n",
            "Adding attribute race\n",
            "========================== BN constructed ==========================\n",
            "================ Constructing Bayesian Network (BN) ================\n",
            "Adding ROOT score\n",
            "Adding attribute age\n",
            "Adding attribute sex\n",
            "Adding attribute race\n",
            "========================== BN constructed ==========================\n",
            "================ Constructing Bayesian Network (BN) ================\n",
            "Adding ROOT score\n",
            "Adding attribute age\n",
            "Adding attribute sex\n",
            "Adding attribute race\n",
            "========================== BN constructed ==========================\n",
            "================ Constructing Bayesian Network (BN) ================\n",
            "Adding ROOT score\n",
            "Adding attribute age\n",
            "Adding attribute sex\n",
            "Adding attribute race\n",
            "========================== BN constructed ==========================\n",
            "================ Constructing Bayesian Network (BN) ================\n",
            "Adding ROOT score\n",
            "Adding attribute age\n",
            "Adding attribute sex\n",
            "Adding attribute race\n",
            "========================== BN constructed ==========================\n",
            "================ Constructing Bayesian Network (BN) ================\n",
            "Adding ROOT score\n",
            "Adding attribute age\n",
            "Adding attribute sex\n",
            "Adding attribute race\n",
            "========================== BN constructed ==========================\n",
            "================ Constructing Bayesian Network (BN) ================\n",
            "Adding ROOT score\n",
            "Adding attribute age\n",
            "Adding attribute sex\n",
            "Adding attribute race\n",
            "========================== BN constructed ==========================\n",
            "================ Constructing Bayesian Network (BN) ================\n",
            "Adding ROOT score\n",
            "Adding attribute age\n",
            "Adding attribute sex\n",
            "Adding attribute race\n",
            "========================== BN constructed ==========================\n",
            "================ Constructing Bayesian Network (BN) ================\n",
            "Adding ROOT score\n",
            "Adding attribute age\n",
            "Adding attribute sex\n",
            "Adding attribute race\n",
            "========================== BN constructed ==========================\n",
            "================ Constructing Bayesian Network (BN) ================\n",
            "Adding ROOT score\n",
            "Adding attribute age\n",
            "Adding attribute sex\n",
            "Adding attribute race\n",
            "========================== BN constructed ==========================\n",
            "================ Constructing Bayesian Network (BN) ================\n",
            "Adding ROOT score\n",
            "Adding attribute age\n",
            "Adding attribute sex\n",
            "Adding attribute race\n",
            "========================== BN constructed ==========================\n",
            "================ Constructing Bayesian Network (BN) ================\n",
            "Adding ROOT score\n",
            "Adding attribute age\n",
            "Adding attribute sex\n",
            "Adding attribute race\n",
            "========================== BN constructed ==========================\n",
            "================ Constructing Bayesian Network (BN) ================\n",
            "Adding ROOT score\n",
            "Adding attribute age\n",
            "Adding attribute sex\n",
            "Adding attribute race\n",
            "========================== BN constructed ==========================\n",
            "================ Constructing Bayesian Network (BN) ================\n",
            "Adding ROOT score\n",
            "Adding attribute age\n",
            "Adding attribute sex\n",
            "Adding attribute race\n",
            "========================== BN constructed ==========================\n",
            "================ Constructing Bayesian Network (BN) ================\n",
            "Adding ROOT score\n",
            "Adding attribute age\n",
            "Adding attribute sex\n",
            "Adding attribute race\n",
            "========================== BN constructed ==========================\n",
            "================ Constructing Bayesian Network (BN) ================\n",
            "Adding ROOT score\n",
            "Adding attribute age\n",
            "Adding attribute sex\n",
            "Adding attribute race\n",
            "========================== BN constructed ==========================\n",
            "================ Constructing Bayesian Network (BN) ================\n",
            "Adding ROOT score\n",
            "Adding attribute age\n",
            "Adding attribute sex\n",
            "Adding attribute race\n",
            "========================== BN constructed ==========================\n",
            "================ Constructing Bayesian Network (BN) ================\n",
            "Adding ROOT score\n",
            "Adding attribute age\n",
            "Adding attribute sex\n",
            "Adding attribute race\n",
            "========================== BN constructed ==========================\n",
            "================ Constructing Bayesian Network (BN) ================\n",
            "Adding ROOT score\n",
            "Adding attribute age\n",
            "Adding attribute sex\n",
            "Adding attribute race\n",
            "========================== BN constructed ==========================\n",
            "================ Constructing Bayesian Network (BN) ================\n",
            "Adding ROOT score\n",
            "Adding attribute age\n",
            "Adding attribute sex\n",
            "Adding attribute race\n",
            "========================== BN constructed ==========================\n",
            "================ Constructing Bayesian Network (BN) ================\n",
            "Adding ROOT score\n",
            "Adding attribute age\n",
            "Adding attribute sex\n",
            "Adding attribute race\n",
            "========================== BN constructed ==========================\n",
            "================ Constructing Bayesian Network (BN) ================\n",
            "Adding ROOT score\n",
            "Adding attribute age\n",
            "Adding attribute sex\n",
            "Adding attribute race\n",
            "========================== BN constructed ==========================\n",
            "================ Constructing Bayesian Network (BN) ================\n",
            "Adding ROOT score\n",
            "Adding attribute age\n",
            "Adding attribute sex\n",
            "Adding attribute race\n",
            "========================== BN constructed ==========================\n",
            "================ Constructing Bayesian Network (BN) ================\n",
            "Adding ROOT score\n",
            "Adding attribute age\n",
            "Adding attribute sex\n",
            "Adding attribute race\n",
            "========================== BN constructed ==========================\n",
            "================ Constructing Bayesian Network (BN) ================\n",
            "Adding ROOT score\n",
            "Adding attribute age\n",
            "Adding attribute sex\n",
            "Adding attribute race\n",
            "========================== BN constructed ==========================\n",
            "================ Constructing Bayesian Network (BN) ================\n",
            "Adding ROOT score\n",
            "Adding attribute age\n",
            "Adding attribute sex\n",
            "Adding attribute race\n",
            "========================== BN constructed ==========================\n",
            "================ Constructing Bayesian Network (BN) ================\n",
            "Adding ROOT score\n",
            "Adding attribute age\n",
            "Adding attribute sex\n",
            "Adding attribute race\n",
            "========================== BN constructed ==========================\n",
            "================ Constructing Bayesian Network (BN) ================\n",
            "Adding ROOT score\n",
            "Adding attribute age\n",
            "Adding attribute sex\n",
            "Adding attribute race\n",
            "========================== BN constructed ==========================\n",
            "================ Constructing Bayesian Network (BN) ================\n",
            "Adding ROOT score\n",
            "Adding attribute age\n",
            "Adding attribute sex\n",
            "Adding attribute race\n",
            "========================== BN constructed ==========================\n",
            "================ Constructing Bayesian Network (BN) ================\n",
            "Adding ROOT score\n",
            "Adding attribute age\n",
            "Adding attribute sex\n",
            "Adding attribute race\n",
            "========================== BN constructed ==========================\n",
            "================ Constructing Bayesian Network (BN) ================\n",
            "Adding ROOT score\n",
            "Adding attribute age\n",
            "Adding attribute sex\n",
            "Adding attribute race\n",
            "========================== BN constructed ==========================\n",
            "================ Constructing Bayesian Network (BN) ================\n",
            "Adding ROOT score\n",
            "Adding attribute age\n",
            "Adding attribute sex\n",
            "Adding attribute race\n",
            "========================== BN constructed ==========================\n",
            "================ Constructing Bayesian Network (BN) ================\n",
            "Adding ROOT score\n",
            "Adding attribute age\n",
            "Adding attribute sex\n",
            "Adding attribute race\n",
            "========================== BN constructed ==========================\n",
            "================ Constructing Bayesian Network (BN) ================\n",
            "Adding ROOT score\n",
            "Adding attribute age\n",
            "Adding attribute sex\n",
            "Adding attribute race\n",
            "========================== BN constructed ==========================\n",
            "================ Constructing Bayesian Network (BN) ================\n",
            "Adding ROOT score\n",
            "Adding attribute age\n",
            "Adding attribute sex\n",
            "Adding attribute race\n",
            "========================== BN constructed ==========================\n",
            "================ Constructing Bayesian Network (BN) ================\n",
            "Adding ROOT score\n",
            "Adding attribute age\n",
            "Adding attribute sex\n",
            "Adding attribute race\n",
            "========================== BN constructed ==========================\n",
            "================ Constructing Bayesian Network (BN) ================\n",
            "Adding ROOT score\n",
            "Adding attribute age\n",
            "Adding attribute sex\n",
            "Adding attribute race\n",
            "========================== BN constructed ==========================\n",
            "================ Constructing Bayesian Network (BN) ================\n",
            "Adding ROOT score\n",
            "Adding attribute age\n",
            "Adding attribute sex\n",
            "Adding attribute race\n",
            "========================== BN constructed ==========================\n",
            "================ Constructing Bayesian Network (BN) ================\n",
            "Adding ROOT score\n",
            "Adding attribute age\n",
            "Adding attribute sex\n",
            "Adding attribute race\n",
            "========================== BN constructed ==========================\n",
            "================ Constructing Bayesian Network (BN) ================\n",
            "Adding ROOT score\n",
            "Adding attribute age\n",
            "Adding attribute sex\n",
            "Adding attribute race\n",
            "========================== BN constructed ==========================\n",
            "================ Constructing Bayesian Network (BN) ================\n",
            "Adding ROOT score\n",
            "Adding attribute age\n",
            "Adding attribute sex\n",
            "Adding attribute race\n",
            "========================== BN constructed ==========================\n",
            "================ Constructing Bayesian Network (BN) ================\n",
            "Adding ROOT score\n",
            "Adding attribute age\n",
            "Adding attribute sex\n",
            "Adding attribute race\n",
            "========================== BN constructed ==========================\n",
            "================ Constructing Bayesian Network (BN) ================\n",
            "Adding ROOT score\n",
            "Adding attribute age\n",
            "Adding attribute sex\n",
            "Adding attribute race\n",
            "========================== BN constructed ==========================\n",
            "================ Constructing Bayesian Network (BN) ================\n",
            "Adding ROOT score\n",
            "Adding attribute age\n",
            "Adding attribute sex\n",
            "Adding attribute race\n",
            "========================== BN constructed ==========================\n",
            "================ Constructing Bayesian Network (BN) ================\n",
            "Adding ROOT score\n",
            "Adding attribute age\n",
            "Adding attribute sex\n",
            "Adding attribute race\n",
            "========================== BN constructed ==========================\n",
            "================ Constructing Bayesian Network (BN) ================\n",
            "Adding ROOT score\n",
            "Adding attribute age\n",
            "Adding attribute sex\n",
            "Adding attribute race\n",
            "========================== BN constructed ==========================\n",
            "================ Constructing Bayesian Network (BN) ================\n",
            "Adding ROOT score\n",
            "Adding attribute age\n",
            "Adding attribute sex\n",
            "Adding attribute race\n",
            "========================== BN constructed ==========================\n",
            "================ Constructing Bayesian Network (BN) ================\n",
            "Adding ROOT score\n",
            "Adding attribute age\n",
            "Adding attribute sex\n",
            "Adding attribute race\n",
            "========================== BN constructed ==========================\n",
            "================ Constructing Bayesian Network (BN) ================\n",
            "Adding ROOT score\n",
            "Adding attribute age\n",
            "Adding attribute sex\n",
            "Adding attribute race\n",
            "========================== BN constructed ==========================\n",
            "================ Constructing Bayesian Network (BN) ================\n",
            "Adding ROOT score\n",
            "Adding attribute age\n",
            "Adding attribute sex\n",
            "Adding attribute race\n",
            "========================== BN constructed ==========================\n",
            "================ Constructing Bayesian Network (BN) ================\n",
            "Adding ROOT score\n",
            "Adding attribute age\n",
            "Adding attribute sex\n",
            "Adding attribute race\n",
            "========================== BN constructed ==========================\n",
            "================ Constructing Bayesian Network (BN) ================\n",
            "Adding ROOT score\n",
            "Adding attribute age\n",
            "Adding attribute sex\n",
            "Adding attribute race\n",
            "========================== BN constructed ==========================\n",
            "================ Constructing Bayesian Network (BN) ================\n",
            "Adding ROOT score\n",
            "Adding attribute age\n",
            "Adding attribute sex\n",
            "Adding attribute race\n",
            "========================== BN constructed ==========================\n",
            "================ Constructing Bayesian Network (BN) ================\n",
            "Adding ROOT score\n",
            "Adding attribute age\n",
            "Adding attribute sex\n",
            "Adding attribute race\n",
            "========================== BN constructed ==========================\n",
            "================ Constructing Bayesian Network (BN) ================\n",
            "Adding ROOT score\n",
            "Adding attribute age\n",
            "Adding attribute sex\n",
            "Adding attribute race\n",
            "========================== BN constructed ==========================\n",
            "================ Constructing Bayesian Network (BN) ================\n",
            "Adding ROOT score\n",
            "Adding attribute age\n",
            "Adding attribute sex\n",
            "Adding attribute race\n",
            "========================== BN constructed ==========================\n",
            "================ Constructing Bayesian Network (BN) ================\n",
            "Adding ROOT score\n",
            "Adding attribute age\n",
            "Adding attribute sex\n",
            "Adding attribute race\n",
            "========================== BN constructed ==========================\n",
            "================ Constructing Bayesian Network (BN) ================\n",
            "Adding ROOT score\n",
            "Adding attribute age\n",
            "Adding attribute sex\n",
            "Adding attribute race\n",
            "========================== BN constructed ==========================\n",
            "================ Constructing Bayesian Network (BN) ================\n",
            "Adding ROOT score\n",
            "Adding attribute age\n",
            "Adding attribute sex\n",
            "Adding attribute race\n",
            "========================== BN constructed ==========================\n",
            "================ Constructing Bayesian Network (BN) ================\n",
            "Adding ROOT score\n",
            "Adding attribute age\n",
            "Adding attribute sex\n",
            "Adding attribute race\n",
            "========================== BN constructed ==========================\n",
            "================ Constructing Bayesian Network (BN) ================\n",
            "Adding ROOT score\n",
            "Adding attribute age\n",
            "Adding attribute sex\n",
            "Adding attribute race\n",
            "========================== BN constructed ==========================\n",
            "================ Constructing Bayesian Network (BN) ================\n",
            "Adding ROOT score\n",
            "Adding attribute age\n",
            "Adding attribute sex\n",
            "Adding attribute race\n",
            "========================== BN constructed ==========================\n",
            "================ Constructing Bayesian Network (BN) ================\n",
            "Adding ROOT score\n",
            "Adding attribute age\n",
            "Adding attribute sex\n",
            "Adding attribute race\n",
            "========================== BN constructed ==========================\n",
            "================ Constructing Bayesian Network (BN) ================\n",
            "Adding ROOT score\n",
            "Adding attribute age\n",
            "Adding attribute sex\n",
            "Adding attribute race\n",
            "========================== BN constructed ==========================\n",
            "================ Constructing Bayesian Network (BN) ================\n",
            "Adding ROOT score\n",
            "Adding attribute age\n",
            "Adding attribute sex\n",
            "Adding attribute race\n",
            "========================== BN constructed ==========================\n",
            "================ Constructing Bayesian Network (BN) ================\n",
            "Adding ROOT score\n",
            "Adding attribute age\n",
            "Adding attribute sex\n",
            "Adding attribute race\n",
            "========================== BN constructed ==========================\n",
            "================ Constructing Bayesian Network (BN) ================\n",
            "Adding ROOT score\n",
            "Adding attribute age\n",
            "Adding attribute sex\n",
            "Adding attribute race\n",
            "========================== BN constructed ==========================\n",
            "================ Constructing Bayesian Network (BN) ================\n",
            "Adding ROOT score\n",
            "Adding attribute age\n",
            "Adding attribute sex\n",
            "Adding attribute race\n",
            "========================== BN constructed ==========================\n",
            "================ Constructing Bayesian Network (BN) ================\n",
            "Adding ROOT score\n",
            "Adding attribute age\n",
            "Adding attribute sex\n",
            "Adding attribute race\n",
            "========================== BN constructed ==========================\n",
            "================ Constructing Bayesian Network (BN) ================\n",
            "Adding ROOT score\n",
            "Adding attribute age\n",
            "Adding attribute sex\n",
            "Adding attribute race\n",
            "========================== BN constructed ==========================\n",
            "================ Constructing Bayesian Network (BN) ================\n",
            "Adding ROOT score\n",
            "Adding attribute age\n",
            "Adding attribute sex\n",
            "Adding attribute race\n",
            "========================== BN constructed ==========================\n",
            "================ Constructing Bayesian Network (BN) ================\n",
            "Adding ROOT score\n",
            "Adding attribute age\n",
            "Adding attribute sex\n",
            "Adding attribute race\n",
            "========================== BN constructed ==========================\n",
            "================ Constructing Bayesian Network (BN) ================\n",
            "Adding ROOT score\n",
            "Adding attribute age\n",
            "Adding attribute sex\n",
            "Adding attribute race\n",
            "========================== BN constructed ==========================\n",
            "================ Constructing Bayesian Network (BN) ================\n",
            "Adding ROOT score\n",
            "Adding attribute age\n",
            "Adding attribute sex\n",
            "Adding attribute race\n",
            "========================== BN constructed ==========================\n",
            "================ Constructing Bayesian Network (BN) ================\n",
            "Adding ROOT score\n",
            "Adding attribute age\n",
            "Adding attribute sex\n",
            "Adding attribute race\n",
            "========================== BN constructed ==========================\n",
            "================ Constructing Bayesian Network (BN) ================\n",
            "Adding ROOT score\n",
            "Adding attribute age\n",
            "Adding attribute sex\n",
            "Adding attribute race\n",
            "========================== BN constructed ==========================\n",
            "================ Constructing Bayesian Network (BN) ================\n",
            "Adding ROOT score\n",
            "Adding attribute age\n",
            "Adding attribute sex\n",
            "Adding attribute race\n",
            "========================== BN constructed ==========================\n",
            "================ Constructing Bayesian Network (BN) ================\n",
            "Adding ROOT score\n",
            "Adding attribute age\n",
            "Adding attribute sex\n",
            "Adding attribute race\n",
            "========================== BN constructed ==========================\n",
            "================ Constructing Bayesian Network (BN) ================\n",
            "Adding ROOT score\n",
            "Adding attribute age\n",
            "Adding attribute sex\n",
            "Adding attribute race\n",
            "========================== BN constructed ==========================\n",
            "================ Constructing Bayesian Network (BN) ================\n",
            "Adding ROOT score\n",
            "Adding attribute age\n",
            "Adding attribute sex\n",
            "Adding attribute race\n",
            "========================== BN constructed ==========================\n",
            "================ Constructing Bayesian Network (BN) ================\n",
            "Adding ROOT score\n",
            "Adding attribute age\n",
            "Adding attribute sex\n",
            "Adding attribute race\n",
            "========================== BN constructed ==========================\n",
            "================ Constructing Bayesian Network (BN) ================\n",
            "Adding ROOT score\n",
            "Adding attribute age\n",
            "Adding attribute sex\n",
            "Adding attribute race\n",
            "========================== BN constructed ==========================\n",
            "================ Constructing Bayesian Network (BN) ================\n",
            "Adding ROOT score\n",
            "Adding attribute age\n",
            "Adding attribute sex\n",
            "Adding attribute race\n",
            "========================== BN constructed ==========================\n",
            "================ Constructing Bayesian Network (BN) ================\n",
            "Adding ROOT score\n",
            "Adding attribute age\n",
            "Adding attribute sex\n",
            "Adding attribute race\n",
            "========================== BN constructed ==========================\n"
          ],
          "name": "stdout"
        }
      ]
    },
    {
      "cell_type": "code",
      "metadata": {
        "colab": {
          "base_uri": "https://localhost:8080/",
          "height": 1000
        },
        "id": "t_ydfriyeahs",
        "outputId": "38a8d41f-e01e-4b15-b309-d15bb86ef13a"
      },
      "source": [
        "print(b_kl_test)\n",
        "print(c_kl_test)\n",
        "print(d_kl_test)\n",
        "'''\n",
        "print(\"B\")\n",
        "print(b_median)\n",
        "print(b_mean)\n",
        "print(b_min)\n",
        "print(b_max)\n",
        "\n",
        "print()\n",
        "print(\"C\")\n",
        "print(c_median)\n",
        "print(c_mean)\n",
        "print(c_min)\n",
        "print(c_max)\n",
        "\n",
        "print(\"D\")\n",
        "print(d_median)\n",
        "print(d_mean)\n",
        "print(d_min)\n",
        "print(d_max)\n",
        "'''\n"
      ],
      "execution_count": null,
      "outputs": [
        {
          "output_type": "stream",
          "text": [
            "[[0.55386952 0.21279474 0.12776633 0.08610023 0.06649214 0.05111238\n",
            "  0.04065468 0.0315867  0.0265577  0.0214208 ]\n",
            " [0.53251418 0.21128173 0.12619512 0.08516519 0.06454891 0.05185206\n",
            "  0.0401046  0.03208005 0.02685399 0.02352789]\n",
            " [0.55932633 0.22495529 0.12864946 0.08611085 0.0646978  0.05168984\n",
            "  0.03678297 0.03165079 0.02425307 0.02157581]\n",
            " [0.53876762 0.21404992 0.12125308 0.08628543 0.06562448 0.05154167\n",
            "  0.03867173 0.03296546 0.02865133 0.02374744]\n",
            " [0.54434028 0.20603024 0.12254057 0.08263598 0.06294908 0.04980312\n",
            "  0.03765962 0.03171559 0.02560108 0.02192793]\n",
            " [0.55290641 0.2287234  0.12632665 0.08523503 0.06143612 0.0466738\n",
            "  0.03608552 0.03042588 0.02485832 0.02085874]\n",
            " [0.55346214 0.21770824 0.13039335 0.08432376 0.06274539 0.04663581\n",
            "  0.0364923  0.02924458 0.02313335 0.02019348]\n",
            " [0.55135223 0.21127666 0.12197943 0.08529253 0.06376292 0.05259197\n",
            "  0.03976599 0.03208511 0.02637868 0.02270316]\n",
            " [0.54280458 0.2148003  0.12536219 0.08683761 0.06323363 0.05201454\n",
            "  0.04115643 0.03418721 0.02780716 0.0243683 ]\n",
            " [0.54672216 0.20855229 0.11336732 0.07633158 0.0557166  0.04335451\n",
            "  0.03215074 0.02607852 0.02188749 0.01817376]]\n",
            "[[0.78047393 0.59312382 0.46623034 0.33941198 0.29126523 0.24979922\n",
            "  0.20494848 0.18281718 0.1670064  0.15248579]\n",
            " [0.80893352 0.63120781 0.48226218 0.39337416 0.32099584 0.26649263\n",
            "  0.21704717 0.20050404 0.18003788 0.16054055]\n",
            " [0.7899869  0.60768525 0.46857232 0.36010276 0.28596476 0.23701385\n",
            "  0.20690456 0.18667437 0.16006123 0.13696602]\n",
            " [0.79232625 0.59543711 0.46509167 0.36711674 0.2887149  0.24880679\n",
            "  0.21293683 0.19479475 0.16868747 0.14809007]\n",
            " [0.77636027 0.60730486 0.46839595 0.35631635 0.2996301  0.2551459\n",
            "  0.2127853  0.18295627 0.15807121 0.1402264 ]\n",
            " [0.77502875 0.60217229 0.47361188 0.3588908  0.29601165 0.22865872\n",
            "  0.20424856 0.17687711 0.15624458 0.14409719]\n",
            " [0.78839741 0.58143293 0.43807457 0.34018091 0.28078924 0.22102524\n",
            "  0.193694   0.17632245 0.1519694  0.12880584]\n",
            " [0.81816516 0.61410876 0.47110297 0.36574464 0.31172313 0.25388016\n",
            "  0.21352866 0.17782664 0.1621753  0.14203086]\n",
            " [0.77017417 0.5975974  0.4497255  0.34977059 0.29152701 0.24610117\n",
            "  0.20499186 0.18158522 0.16103911 0.14300135]\n",
            " [0.78777579 0.61624538 0.46351327 0.36692417 0.3032131  0.25670899\n",
            "  0.2192514  0.18915388 0.15565101 0.13858833]]\n",
            "[[1.05936274 0.79181193 0.64217233 0.46123687 0.38361323 0.32303838\n",
            "  0.27219276 0.23664945 0.20310011 0.18225221]\n",
            " [1.04228407 0.79512671 0.62483125 0.46801202 0.37548638 0.30134705\n",
            "  0.26892811 0.22878544 0.18596388 0.16141708]\n",
            " [1.06920855 0.83817773 0.65657341 0.47719975 0.39310928 0.33210657\n",
            "  0.28553294 0.25543648 0.22780425 0.19921132]\n",
            " [1.04206194 0.80128833 0.62292551 0.44470878 0.34989745 0.28596447\n",
            "  0.25212656 0.21415429 0.19721566 0.16958035]\n",
            " [1.07873622 0.80298914 0.647965   0.46046119 0.38023332 0.32423836\n",
            "  0.2787123  0.24658932 0.20870279 0.18478116]\n",
            " [1.05234883 0.79223408 0.61206473 0.4417509  0.36083925 0.30542207\n",
            "  0.2631746  0.23571381 0.19957242 0.1755849 ]\n",
            " [1.06382945 0.77100211 0.60496321 0.43882165 0.36789966 0.30339367\n",
            "  0.25827109 0.21291533 0.18973623 0.16763746]\n",
            " [1.07093074 0.81222851 0.63338148 0.45438645 0.37096592 0.30752514\n",
            "  0.25390924 0.21951739 0.20026849 0.17454973]\n",
            " [1.05290583 0.77411393 0.61862144 0.45014841 0.36855952 0.31008046\n",
            "  0.26913963 0.23529322 0.20805738 0.18299213]\n",
            " [1.07206166 0.78982158 0.62301613 0.44944373 0.36299605 0.2982876\n",
            "  0.26344447 0.22637546 0.20256397 0.18601547]]\n"
          ],
          "name": "stdout"
        },
        {
          "output_type": "execute_result",
          "data": {
            "application/vnd.google.colaboratory.intrinsic+json": {
              "type": "string"
            },
            "text/plain": [
              "'\\nprint(\"B\")\\nprint(b_median)\\nprint(b_mean)\\nprint(b_min)\\nprint(b_max)\\n\\nprint()\\nprint(\"C\")\\nprint(c_median)\\nprint(c_mean)\\nprint(c_min)\\nprint(c_max)\\n\\nprint(\"D\")\\nprint(d_median)\\nprint(d_mean)\\nprint(d_min)\\nprint(d_max)\\n'"
            ]
          },
          "metadata": {
            "tags": []
          },
          "execution_count": 146
        }
      ]
    },
    {
      "cell_type": "markdown",
      "metadata": {
        "id": "mwcOyeY8Ho1v"
      },
      "source": [
        "- Plot the distributions of KL-divergence scores (10 samples each) with box-and-whiskers plots where you treat epsilon as the X-axis and generation settings as subplots. \n"
      ]
    },
    {
      "cell_type": "code",
      "metadata": {
        "id": "7E7oowaPHJ2i"
      },
      "source": [
        "# You can use sns.boxplot for the plots\n",
        "# For examples, refer to https://seaborn.pydata.org/generated/seaborn.boxplot.html"
      ],
      "execution_count": null,
      "outputs": []
    },
    {
      "cell_type": "code",
      "metadata": {
        "colab": {
          "base_uri": "https://localhost:8080/",
          "height": 318
        },
        "id": "CWw5Fb5wxXsd",
        "outputId": "fbb94f37-1a46-4811-9e4b-11c269dfaf75"
      },
      "source": [
        "# B independent plots\n",
        "x_init = list(range(len(max)))\n",
        "x_tuned = [x + 0.35 for x in x_init]\n",
        "\n",
        "plt.boxplot([b_kl_test[0][:], b_kl_test[1][:], b_kl_test[2][:], \n",
        "             b_kl_test[3][:], b_kl_test[4][:], b_kl_test[5][:],\n",
        "             b_kl_test[6][:], b_kl_test[7][:], b_kl_test[8][:],\n",
        "             b_kl_test[9][:]], labels=['0.01', '0.02', '0.03', \n",
        "                                       '0.04', '0.05', '0.06', \n",
        "                                       '0.07', '0.08', '0.09', \n",
        "                                       '0.1'])\n",
        "\n",
        "# Create labels, etc. \n",
        "plt.xlabel(\"Epsilon\")\n",
        "plt.ylabel(\"KL Divergence\")\n",
        "plt.title(\"B: Independent Mode\")\n",
        "plt.legend()\n",
        "plt.show()"
      ],
      "execution_count": null,
      "outputs": [
        {
          "output_type": "stream",
          "text": [
            "No handles with labels found to put in legend.\n"
          ],
          "name": "stderr"
        },
        {
          "output_type": "display_data",
          "data": {
            "image/png": "[encoded data removed]",
            "text/plain": [
              "<Figure size 432x288 with 1 Axes>"
            ]
          },
          "metadata": {
            "tags": []
          }
        }
      ]
    },
    {
      "cell_type": "code",
      "metadata": {
        "colab": {
          "base_uri": "https://localhost:8080/",
          "height": 318
        },
        "id": "2SdOiSpdxcN-",
        "outputId": "a6822fb6-ee8f-4ff7-f012-86bad5e4505f"
      },
      "source": [
        "# C correlated plots\n",
        "x_init = list(range(len(max)))\n",
        "x_tuned = [x + 0.35 for x in x_init]\n",
        "\n",
        "plt.boxplot([c_kl_test[0][:], c_kl_test[1][:], c_kl_test[2][:], \n",
        "             c_kl_test[3][:], c_kl_test[4][:], c_kl_test[5][:],\n",
        "             c_kl_test[6][:], c_kl_test[7][:], c_kl_test[8][:],\n",
        "             c_kl_test[9][:]], labels=['0.01', '0.02', '0.03', \n",
        "                                       '0.04', '0.05', '0.06', \n",
        "                                       '0.07', '0.08', '0.09', \n",
        "                                       '0.1'])\n",
        "\n",
        "# Create labels, etc. \n",
        "plt.xlabel(\"Epsilon\")\n",
        "plt.ylabel(\"KL Divergence\")\n",
        "plt.title(\"C: Correlated Mode (k=1)\")\n",
        "plt.legend()\n",
        "plt.show()"
      ],
      "execution_count": null,
      "outputs": [
        {
          "output_type": "stream",
          "text": [
            "No handles with labels found to put in legend.\n"
          ],
          "name": "stderr"
        },
        {
          "output_type": "display_data",
          "data": {
            "image/png": "[encoded data removed]",
            "text/plain": [
              "<Figure size 432x288 with 1 Axes>"
            ]
          },
          "metadata": {
            "tags": []
          }
        }
      ]
    },
    {
      "cell_type": "code",
      "metadata": {
        "id": "R5dKhXbBxfGW",
        "colab": {
          "base_uri": "https://localhost:8080/",
          "height": 318
        },
        "outputId": "ae16f96a-6045-4048-c768-b6d295283104"
      },
      "source": [
        "# D correlated plots\n",
        "x_init = list(range(len(max)))\n",
        "x_tuned = [x + 0.35 for x in x_init]\n",
        "\n",
        "plt.boxplot([d_kl_test[0][:], d_kl_test[1][:], d_kl_test[2][:], \n",
        "             d_kl_test[3][:], d_kl_test[4][:], d_kl_test[5][:],\n",
        "             d_kl_test[6][:], d_kl_test[7][:], d_kl_test[8][:],\n",
        "             d_kl_test[9][:]], labels=['0.01', '0.02', '0.03', \n",
        "                                       '0.04', '0.05', '0.06', \n",
        "                                       '0.07', '0.08', '0.09', \n",
        "                                       '0.1'])\n",
        "\n",
        "# Create labels, etc. \n",
        "plt.xlabel(\"Epsilon\")\n",
        "plt.ylabel(\"KL Divergence\")\n",
        "plt.title(\"D: Correlated Mode (k=2)\")\n",
        "plt.legend()\n",
        "plt.show()"
      ],
      "execution_count": null,
      "outputs": [
        {
          "output_type": "stream",
          "text": [
            "No handles with labels found to put in legend.\n"
          ],
          "name": "stderr"
        },
        {
          "output_type": "display_data",
          "data": {
            "image/png": "[encoded data removed]",
            "text/plain": [
              "<Figure size 432x288 with 1 Axes>"
            ]
          },
          "metadata": {
            "tags": []
          }
        }
      ]
    }
  ]
}